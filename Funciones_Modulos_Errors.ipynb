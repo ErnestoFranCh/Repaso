{
  "nbformat": 4,
  "nbformat_minor": 0,
  "metadata": {
    "colab": {
      "provenance": [],
      "toc_visible": true,
      "authorship_tag": "ABX9TyMVz62lWuXdYZQsUyOvqtJ1",
      "include_colab_link": true
    },
    "kernelspec": {
      "name": "python3",
      "display_name": "Python 3"
    },
    "language_info": {
      "name": "python"
    }
  },
  "cells": [
    {
      "cell_type": "markdown",
      "metadata": {
        "id": "view-in-github",
        "colab_type": "text"
      },
      "source": [
        "<a href=\"https://colab.research.google.com/github/ErnestoFranCh/Repaso/blob/main/Funciones_Modulos_Errors.ipynb\" target=\"_parent\"><img src=\"https://colab.research.google.com/assets/colab-badge.svg\" alt=\"Open In Colab\"/></a>"
      ]
    },
    {
      "cell_type": "markdown",
      "source": [
        "#Funciones.\n",
        "\n",
        "Una función en Python es un bloque de código reutilizable que se ejecuta solo cuando es llamado. Sirve para organizar, simplificar y reutilizar código."
      ],
      "metadata": {
        "id": "9A47Ioon7gBW"
      }
    },
    {
      "cell_type": "markdown",
      "source": [
        "## Declaracion de funciones.\n",
        "\n",
        "\n",
        "\n",
        "```python\n",
        "# syntax\n",
        "# Declaracion\n",
        "def function_name():\n",
        "    codes\n",
        "    codes\n",
        "\n",
        "# Llamado\n",
        "function_name()\n",
        "```\n",
        "\n"
      ],
      "metadata": {
        "id": "Im0facCe70nV"
      }
    },
    {
      "cell_type": "markdown",
      "source": [
        "###Tipos de funciones."
      ],
      "metadata": {
        "id": "O_w_lseC8D5V"
      }
    },
    {
      "cell_type": "markdown",
      "source": [
        "#### Sin parametros `f()`"
      ],
      "metadata": {
        "id": "0QQKwtoB8HOM"
      }
    },
    {
      "cell_type": "code",
      "source": [
        "def suma_dos_num ():\n",
        "    num_one = 2\n",
        "    num_two = 3\n",
        "    total = num_one + num_two\n",
        "    print(total)\n",
        "\n",
        "suma_dos_num()"
      ],
      "metadata": {
        "colab": {
          "base_uri": "https://localhost:8080/"
        },
        "id": "KdGgbK8c7ieL",
        "outputId": "27fc495e-7db4-4bc1-de5a-52dba47b5791"
      },
      "execution_count": null,
      "outputs": [
        {
          "output_type": "stream",
          "name": "stdout",
          "text": [
            "5\n"
          ]
        }
      ]
    },
    {
      "cell_type": "markdown",
      "source": [
        "#### Funcion con parametros.\n",
        "\n",
        "\n",
        "\n",
        "```python\n",
        "  # syntax\n",
        "  # Declaracion\n",
        "  def function_name(parameter):\n",
        "    codes\n",
        "    codes\n",
        "\n",
        "  # Llamado\n",
        "  print(function_name(argument))\n",
        "```\n",
        "\n"
      ],
      "metadata": {
        "id": "e-HSTOWK4dmu"
      }
    },
    {
      "cell_type": "code",
      "source": [
        "def suma_dos_num(a,b):\n",
        "  print(a+b)\n",
        "\n",
        "suma_dos_num(2,3)"
      ],
      "metadata": {
        "colab": {
          "base_uri": "https://localhost:8080/"
        },
        "id": "bHIcPMVG44ZQ",
        "outputId": "2c67bd54-8df2-4447-f44b-a1c2b93d90b5"
      },
      "execution_count": null,
      "outputs": [
        {
          "output_type": "stream",
          "name": "stdout",
          "text": [
            "5\n"
          ]
        }
      ]
    },
    {
      "cell_type": "markdown",
      "source": [
        "#### Funcion con retorno de parametros.\n",
        "\n",
        "Se pueden retornar todos lo tipos de parametros incluido funciones."
      ],
      "metadata": {
        "id": "mbJ6mabe5ICD"
      }
    },
    {
      "cell_type": "code",
      "source": [
        "def suma_dos_num(a,b):\n",
        "  return a+b\n",
        "\n",
        "suma = suma_dos_num(2,3)\n",
        "print(suma)"
      ],
      "metadata": {
        "colab": {
          "base_uri": "https://localhost:8080/"
        },
        "id": "0MaUZAZl5TLN",
        "outputId": "a5ec762a-6be3-4cf2-d794-040772243bc4"
      },
      "execution_count": null,
      "outputs": [
        {
          "output_type": "stream",
          "name": "stdout",
          "text": [
            "5\n"
          ]
        }
      ]
    },
    {
      "cell_type": "markdown",
      "source": [
        "#### Pasar parametros key:value\n",
        "\n",
        "Se pasa el argumento nombrando explícitamente el parámetro:\n",
        "\n",
        "El orden ya no importa, porque Python sabe qué valor va a cada parametro:"
      ],
      "metadata": {
        "id": "hVJMtl-j6Gpm"
      }
    },
    {
      "cell_type": "code",
      "source": [
        "def nombre_completo(nombre,apellido):\n",
        "  print(nombre + \" \" + apellido)\n",
        "\n",
        "nombre_completo('Ernesto','Franco') # Orden obligatorio.\n",
        "\n",
        "nombre_completo(apellido='Franco',nombre='Ernesto') #Sin orden ya que se declara el parametro"
      ],
      "metadata": {
        "colab": {
          "base_uri": "https://localhost:8080/"
        },
        "id": "Lib06A_R6Q9A",
        "outputId": "829b5681-4ba1-46a3-e62a-70976d9cb1b0"
      },
      "execution_count": null,
      "outputs": [
        {
          "output_type": "stream",
          "name": "stdout",
          "text": [
            "Ernesto Franco\n",
            "Ernesto Franco\n"
          ]
        }
      ]
    },
    {
      "cell_type": "markdown",
      "source": [
        "#### Funciones con argumentos por defecto.\n",
        "\n",
        "Es una función que asigna automáticamente un valor a un parámetro si no se le pasa ninguno cuando la función es llamada.\n",
        "\n",
        "***Las funciones con parametro por defecto deben de ir al final.***\n",
        "\n",
        "\n",
        "\n",
        "```python\n",
        "def ejemplo(a=1, b):  # ❌\n",
        "    pass\n",
        "\n",
        "def ejemplo(a, b=1):  # ✔️\n",
        "    pass\n",
        "\n",
        "```\n",
        "\n"
      ],
      "metadata": {
        "id": "OilHQwJY8F2Q"
      }
    },
    {
      "cell_type": "code",
      "source": [
        "def saludo(nombre='Ernesto'):\n",
        "  print('hola ' + nombre)\n",
        "\n",
        "saludo()\n",
        "saludo('Pepe')"
      ],
      "metadata": {
        "colab": {
          "base_uri": "https://localhost:8080/"
        },
        "id": "0fs6jHpF7Y5Y",
        "outputId": "ba32fe5c-1c76-459e-d89d-f9154c4eccc4"
      },
      "execution_count": null,
      "outputs": [
        {
          "output_type": "stream",
          "name": "stdout",
          "text": [
            "hola Ernesto\n",
            "hola Pepe\n"
          ]
        }
      ]
    },
    {
      "cell_type": "markdown",
      "source": [
        "#### n parametros.\n",
        "\n",
        "Una función puede aceptar una cantidad indefinida de argumentos. Para lograr esto, usas un asterisco `*` antes del nombre del parámetro:\n",
        "\n",
        "- No necesitas saber cuántos vas a pasar cuando la defines.\n",
        "\n",
        "- Puedes usar cualquier nombre en lugar de `args`, pero por convención se usa `*args`.\n",
        "\n",
        "- Si hay otros parámetros, `*args` debe ir al final de los parámetros posicionales.\n",
        "\n"
      ],
      "metadata": {
        "id": "kVOS5ui1G4PS"
      }
    },
    {
      "cell_type": "code",
      "source": [
        "def sum_numeros(*numeros):\n",
        "  suma = 0\n",
        "  for numero in numeros:\n",
        "    suma += numero\n",
        "\n",
        "  print(suma)\n",
        "\n",
        "\n",
        "sum_numeros(1,2,3,4,5,6,7,8,9,10)\n"
      ],
      "metadata": {
        "colab": {
          "base_uri": "https://localhost:8080/"
        },
        "id": "007YBEJJHSzl",
        "outputId": "ae00175c-e650-492d-8426-cbc03a0f6766"
      },
      "execution_count": null,
      "outputs": [
        {
          "output_type": "stream",
          "name": "stdout",
          "text": [
            "55\n"
          ]
        }
      ]
    },
    {
      "cell_type": "markdown",
      "source": [
        "`*args` puede recibir parametros de cualquier tipo."
      ],
      "metadata": {
        "id": "dvfJkn0AJLqr"
      }
    },
    {
      "cell_type": "code",
      "source": [
        "def mostrar_argumentos(*args):\n",
        "    for arg in args:\n",
        "        print(f\"{arg} es de tipo {type(arg)}\")\n",
        "\n",
        "mostrar_argumentos(42, 'hola', [1, 2], {'a': 1}, 3.14, True)"
      ],
      "metadata": {
        "colab": {
          "base_uri": "https://localhost:8080/"
        },
        "id": "_W0P9iR-JQ9O",
        "outputId": "50eca4bd-36cf-45ce-ce47-b4dccf94486c"
      },
      "execution_count": null,
      "outputs": [
        {
          "output_type": "stream",
          "name": "stdout",
          "text": [
            "42 es de tipo <class 'int'>\n",
            "hola es de tipo <class 'str'>\n",
            "[1, 2] es de tipo <class 'list'>\n",
            "{'a': 1} es de tipo <class 'dict'>\n",
            "3.14 es de tipo <class 'float'>\n",
            "True es de tipo <class 'bool'>\n"
          ]
        }
      ]
    },
    {
      "cell_type": "markdown",
      "source": [
        "`*args` los recibe todos como una tupla, y dentro de esa tupla puede haber elementos de cualquier tipo: `int`, `str`, `list`, `dict`, `float`, `bool`, incluso funciones, clases u objetos personalizados."
      ],
      "metadata": {
        "id": "LzwrL9R9JtSG"
      }
    },
    {
      "cell_type": "markdown",
      "source": [
        "#### `**kwargs`\n",
        "\n",
        "`**kwargs` permite que una función reciba una cantidad variable de argumentos con clave y valor (como un diccionario).\n",
        "\n",
        "kwargs significa \"keyword arguments\".\n",
        "\n",
        "Los argumentos que llegan se agrupan en un diccionario.\n",
        "\n",
        "Puedes usar cualquier nombre, pero por convención se usa `**kwargs`."
      ],
      "metadata": {
        "id": "sSLJzEvuJ2QH"
      }
    },
    {
      "cell_type": "code",
      "source": [
        "def f(**kwargs):\n",
        "    for key, value in kwargs.items():\n",
        "        print(f\"{key}: {value}\")\n",
        "\n",
        "f(nombre='Ernesto', ciudad='Illinois', skills=['C++', 'Python'], dicc={'numero': 123, 'fijo': 321})\n"
      ],
      "metadata": {
        "colab": {
          "base_uri": "https://localhost:8080/"
        },
        "id": "_gXjwrjvKK5I",
        "outputId": "a616f7b0-228d-42ad-e42f-95495b709608"
      },
      "execution_count": null,
      "outputs": [
        {
          "output_type": "stream",
          "name": "stdout",
          "text": [
            "nombre: Ernesto\n",
            "ciudad: Illinois\n",
            "skills: ['C++', 'Python']\n",
            "dicc: {'numero': 123, 'fijo': 321}\n"
          ]
        }
      ]
    },
    {
      "cell_type": "markdown",
      "source": [
        "#### `*args` + `**kwargs`.\n",
        "\n",
        "Si usas `*args` y `**kwargs`, el orden debe ser: `*args`, luego `**kwargs`."
      ],
      "metadata": {
        "id": "VjiMoWOzLkgA"
      }
    },
    {
      "cell_type": "code",
      "source": [
        "def mostrar_datos(*args, **kwargs):\n",
        "    print('args:', args)\n",
        "    print('kwargs:', kwargs)\n",
        "\n",
        "mostrar_datos(1, 2, 3, nombre='Ana', edad=30)"
      ],
      "metadata": {
        "colab": {
          "base_uri": "https://localhost:8080/"
        },
        "id": "7G9__cMeL6bK",
        "outputId": "f92f2a53-303b-4be6-f4d1-9fcd8d7f124c"
      },
      "execution_count": null,
      "outputs": [
        {
          "output_type": "stream",
          "name": "stdout",
          "text": [
            "args: (1, 2, 3)\n",
            "kwargs: {'nombre': 'Ana', 'edad': 30}\n"
          ]
        }
      ]
    },
    {
      "cell_type": "markdown",
      "source": [
        "Los tipos de funcion que hemos visto hasta aqui se pueden combinar en una sola funcion."
      ],
      "metadata": {
        "id": "Xa_RHmLAH4Dz"
      }
    },
    {
      "cell_type": "markdown",
      "source": [
        "#### Funcion como parametro de otra funcion."
      ],
      "metadata": {
        "id": "GcHw4CWNIV5A"
      }
    },
    {
      "cell_type": "code",
      "source": [
        "# Supongamos que queremos sumar un numero por si mismo y el resultado multiplicarlo por si mismo.\n",
        "\n",
        "def sum(a):\n",
        "  return a+a\n",
        "\n",
        "def funcion(f,a):\n",
        "  suma = f(a)\n",
        "  return suma*suma\n",
        "\n",
        "funcion(sum,2)"
      ],
      "metadata": {
        "colab": {
          "base_uri": "https://localhost:8080/"
        },
        "id": "JCu9IjfwMGns",
        "outputId": "2e8bb61f-c080-4e2b-f120-ab87a1cedfbf"
      },
      "execution_count": null,
      "outputs": [
        {
          "output_type": "execute_result",
          "data": {
            "text/plain": [
              "16"
            ]
          },
          "metadata": {},
          "execution_count": 14
        }
      ]
    },
    {
      "cell_type": "markdown",
      "source": [
        "#### funciones en variables `var = f`\n",
        "\n",
        "Las funciones en Python se tratan como valores."
      ],
      "metadata": {
        "id": "PpufRn12Nufo"
      }
    },
    {
      "cell_type": "code",
      "source": [
        "def suma(a,b):\n",
        "  return a+b\n",
        "\n",
        "suma_numeros = suma\n",
        "\n",
        "print(suma_numeros(2,3))"
      ],
      "metadata": {
        "colab": {
          "base_uri": "https://localhost:8080/"
        },
        "id": "5bizYs4YN6gy",
        "outputId": "18cf71ff-ada7-4e13-febf-2a8a661f91fa"
      },
      "execution_count": null,
      "outputs": [
        {
          "output_type": "stream",
          "name": "stdout",
          "text": [
            "5\n"
          ]
        }
      ]
    },
    {
      "cell_type": "markdown",
      "source": [
        "#### retornando una funcion dentro de otra funcion.\n"
      ],
      "metadata": {
        "id": "EeSWX2PCOFgl"
      }
    },
    {
      "cell_type": "code",
      "source": [
        "def saludar():\n",
        "  def mensaje():\n",
        "    return 'hola ¿como estas?'\n",
        "\n",
        "  return mensaje\n",
        "\n",
        "saludar()() #Dado que se retorna una funcion hay que llamar la funcion \"dos veces\", en gral, hay que llamar \"n veces\".\n",
        "\n",
        "#alternativa\n",
        "\n",
        "saludo = saludar() #se llama a la funcion saludar(), retornando mensaje()\n",
        "\n",
        "saludo()   #La var saludo es ahora mensaje()"
      ],
      "metadata": {
        "colab": {
          "base_uri": "https://localhost:8080/",
          "height": 35
        },
        "id": "NkyEyCjKOKNe",
        "outputId": "90ee21de-7023-4922-f3f7-9a5e8c479bb0"
      },
      "execution_count": null,
      "outputs": [
        {
          "output_type": "execute_result",
          "data": {
            "text/plain": [
              "'hola ¿como estas?'"
            ],
            "application/vnd.google.colaboratory.intrinsic+json": {
              "type": "string"
            }
          },
          "metadata": {},
          "execution_count": 20
        }
      ]
    },
    {
      "cell_type": "markdown",
      "source": [
        "#Modulos\n",
        "\n",
        "Un módulo en Python es simplemente un archivo `.py` que contiene código Python: funciones, clases, variables e incluso otros módulos."
      ],
      "metadata": {
        "id": "-eau4Fgm7ADz"
      }
    },
    {
      "cell_type": "code",
      "source": [
        "#guardamos el siguiente codigo como nombre_modulo.py\n",
        "\n",
        "def generate_full_name(firstname, lastname):\n",
        "    return firstname + ' ' + lastname\n",
        "\n",
        "def suma(a,b):\n",
        "  return a+b"
      ],
      "metadata": {
        "id": "xt0e55ml6_2_"
      },
      "execution_count": null,
      "outputs": []
    },
    {
      "cell_type": "markdown",
      "source": [
        "Guardalo en tu environment e importalo como cualquier otra libreria.\n",
        "\n",
        "\n",
        "\n",
        "```python\n",
        "from nombre_modulo import suma\n",
        "\n",
        "#\n",
        "\n",
        "import nombre_modulo as nm\n",
        "```\n",
        "\n"
      ],
      "metadata": {
        "id": "PRS2PLhS_dvY"
      }
    },
    {
      "cell_type": "markdown",
      "source": [
        "# Errores"
      ],
      "metadata": {
        "id": "puXF4r3K6-CG"
      }
    },
    {
      "cell_type": "markdown",
      "source": [
        "| Error               | Descripción                                                                                         |\n",
        "|---------------------|-----------------------------------------------------------------------------------------------------|\n",
        "| `SyntaxError`        | Ocurre cuando el código tiene una sintaxis inválida, como paréntesis no cerrados o mal uso de palabras clave. |\n",
        "| `NameError`          | Se lanza cuando se intenta acceder a una variable que no ha sido definida.                        |\n",
        "| `IndexError`         | Ocurre cuando se intenta acceder a un índice que está fuera del rango de una lista, tupla, etc.    |\n",
        "| `ModuleNotFoundError`| Se produce cuando no se puede encontrar un módulo especificado en un import.                      |\n",
        "| `AttributeError`     | Se lanza cuando se intenta acceder a un atributo o método que no existe en un objeto.             |\n",
        "| `KeyError`           | Ocurre cuando se intenta acceder a una clave inexistente en un diccionario.                        |\n",
        "| `TypeError`          | Se lanza cuando se intenta realizar una operación con un tipo de dato no compatible (como sumar un entero y una cadena). |\n",
        "| `ImportError`        | Ocurre cuando un módulo existe, pero falla al importar un nombre específico desde él.              |\n",
        "| `ValueError`         | Se produce cuando una función recibe un argumento de tipo correcto pero valor inválido (por ejemplo, convertir 'abc' a int). |\n",
        "| `ZeroDivisionError`  | Ocurre cuando se intenta dividir un número entre cero.                                              |\n",
        "| `IndentationError`   | Error de sangrado (indentación), por ejemplo, no alinear correctamente un bloque de código.        |\n",
        "| `FileNotFoundError`  | Se lanza cuando se intenta abrir un archivo que no existe.                                          |\n",
        "| `RuntimeError`       | Error genérico que ocurre en tiempo de ejecución sin una categoría específica.                     |\n",
        "| `OverflowError`      | Se produce cuando un cálculo numérico excede el límite permitido para un tipo de dato.             |\n",
        "| `RecursionError`     | Se lanza cuando se excede la profundidad máxima de recursión permitida.                            |\n",
        "| `StopIteration`      | Ocurre cuando un iterador se ha agotado y no hay más elementos para iterar. (común en bucles `for` y generadores) |\n"
      ],
      "metadata": {
        "id": "TOkEuxji6Z1B"
      }
    }
  ]
}