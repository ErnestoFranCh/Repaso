{
  "nbformat": 4,
  "nbformat_minor": 0,
  "metadata": {
    "colab": {
      "provenance": [],
      "authorship_tag": "ABX9TyOnU6flnCHpmRC6ZI7hVqPk",
      "include_colab_link": true
    },
    "kernelspec": {
      "name": "python3",
      "display_name": "Python 3"
    },
    "language_info": {
      "name": "python"
    }
  },
  "cells": [
    {
      "cell_type": "markdown",
      "metadata": {
        "id": "view-in-github",
        "colab_type": "text"
      },
      "source": [
        "<a href=\"https://colab.research.google.com/github/ErnestoFranCh/Repaso/blob/main/Manejo_de_excepciones.ipynb\" target=\"_parent\"><img src=\"https://colab.research.google.com/assets/colab-badge.svg\" alt=\"Open In Colab\"/></a>"
      ]
    },
    {
      "cell_type": "markdown",
      "source": [
        "#Excepciones\n",
        "Una excepción es un error que ocurre durante la ejecución del programa y que interrumpe su flujo normal.\n",
        "\n",
        "#El manejo de excepciones\n",
        "Es la forma de prevenir que el programa se detenga abruptamente cuando ocurre un error. Se usa la estructura:\n",
        "\n",
        "\n",
        "\n",
        "```python\n",
        "try:\n",
        "    # Código que puede causar un error\n",
        "except TipoDeError:\n",
        "    # Código que se ejecuta si ocurre ese error\n",
        "else:\n",
        "    # Código que se ejecuta si no ocurre error (opcional)\n",
        "finally:\n",
        "    # Código que siempre se ejecuta, ocurra o no error (opcional)\n",
        "\n",
        "```\n",
        "\n"
      ],
      "metadata": {
        "id": "XSbTHBIjfiWy"
      }
    },
    {
      "cell_type": "code",
      "execution_count": 1,
      "metadata": {
        "colab": {
          "base_uri": "https://localhost:8080/"
        },
        "id": "NDkOVQiZfKF1",
        "outputId": "c921ddda-dc5a-4aa3-b83b-887cb662ab8a"
      },
      "outputs": [
        {
          "output_type": "stream",
          "name": "stdout",
          "text": [
            "Enter your name:Ernesto\n",
            "Year you born:2000\n",
            "You are Ernesto. And your age is 25.\n",
            "I usually run with the try block\n",
            "I alway run.\n"
          ]
        }
      ],
      "source": [
        "try:\n",
        "    name = input('Enter your name:')\n",
        "    year_born = input('Year you born:')\n",
        "    age = 2025 - int(year_born)\n",
        "    print(f'You are {name}. And your age is {age}.')\n",
        "except TypeError:\n",
        "    print('Type error occur')\n",
        "except ValueError:\n",
        "    print('Value error occur')\n",
        "except ZeroDivisionError:\n",
        "    print('zero division error occur')\n",
        "else:\n",
        "    print('I usually run with the try block')\n",
        "finally:\n",
        "    print('I alway run.')"
      ]
    },
    {
      "cell_type": "markdown",
      "source": [
        "#Desenmpaquetado\n",
        "\n"
      ],
      "metadata": {
        "id": "52O_S2UuhLIU"
      }
    },
    {
      "cell_type": "code",
      "source": [
        "def sum_of_five_nums(a, b, c, d, e):\n",
        "    return a + b + c + d + e\n",
        "\n",
        "lst = [1, 2, 3, 4, 5]\n",
        "print(sum_of_five_nums(lst)) # TypeError: sum_of_five_nums() missing 4 required positional arguments: 'b', 'c', 'd', and 'e'"
      ],
      "metadata": {
        "colab": {
          "base_uri": "https://localhost:8080/",
          "height": 176
        },
        "id": "Qj5axReWhUpz",
        "outputId": "9942b4e3-8edd-453e-ca4c-37eff9824f56"
      },
      "execution_count": 2,
      "outputs": [
        {
          "output_type": "error",
          "ename": "TypeError",
          "evalue": "sum_of_five_nums() missing 4 required positional arguments: 'b', 'c', 'd', and 'e'",
          "traceback": [
            "\u001b[0;31m---------------------------------------------------------------------------\u001b[0m",
            "\u001b[0;31mTypeError\u001b[0m                                 Traceback (most recent call last)",
            "\u001b[0;32m<ipython-input-2-b951d4fef2c8>\u001b[0m in \u001b[0;36m<cell line: 0>\u001b[0;34m()\u001b[0m\n\u001b[1;32m      3\u001b[0m \u001b[0;34m\u001b[0m\u001b[0m\n\u001b[1;32m      4\u001b[0m \u001b[0mlst\u001b[0m \u001b[0;34m=\u001b[0m \u001b[0;34m[\u001b[0m\u001b[0;36m1\u001b[0m\u001b[0;34m,\u001b[0m \u001b[0;36m2\u001b[0m\u001b[0;34m,\u001b[0m \u001b[0;36m3\u001b[0m\u001b[0;34m,\u001b[0m \u001b[0;36m4\u001b[0m\u001b[0;34m,\u001b[0m \u001b[0;36m5\u001b[0m\u001b[0;34m]\u001b[0m\u001b[0;34m\u001b[0m\u001b[0;34m\u001b[0m\u001b[0m\n\u001b[0;32m----> 5\u001b[0;31m \u001b[0mprint\u001b[0m\u001b[0;34m(\u001b[0m\u001b[0msum_of_five_nums\u001b[0m\u001b[0;34m(\u001b[0m\u001b[0mlst\u001b[0m\u001b[0;34m)\u001b[0m\u001b[0;34m)\u001b[0m \u001b[0;31m# TypeError: sum_of_five_nums() missing 4 required positional arguments: 'b', 'c', 'd', and 'e'\u001b[0m\u001b[0;34m\u001b[0m\u001b[0;34m\u001b[0m\u001b[0m\n\u001b[0m",
            "\u001b[0;31mTypeError\u001b[0m: sum_of_five_nums() missing 4 required positional arguments: 'b', 'c', 'd', and 'e'"
          ]
        }
      ]
    },
    {
      "cell_type": "code",
      "source": [
        "lst = [1, 2, 3, 4, 5]\n",
        "print(sum_of_five_nums(*lst))  # 15"
      ],
      "metadata": {
        "colab": {
          "base_uri": "https://localhost:8080/"
        },
        "id": "wC3VTgZchWSJ",
        "outputId": "e7ad0af2-17ed-4ca8-90d7-da437624d223"
      },
      "execution_count": 3,
      "outputs": [
        {
          "output_type": "stream",
          "name": "stdout",
          "text": [
            "15\n"
          ]
        }
      ]
    },
    {
      "cell_type": "code",
      "source": [
        "def unpacking_person_info(name, country, city, age):\n",
        "    return f'{name} lives in {country}, {city}. He is {age} year old.'\n",
        "\n",
        "\n",
        "dct = {'name':'Ernesto', 'country':'Mexico', 'city':'Patito', 'age':250}\n",
        "print(unpacking_person_info(**dct))"
      ],
      "metadata": {
        "colab": {
          "base_uri": "https://localhost:8080/"
        },
        "id": "9xVZAJJvhf8l",
        "outputId": "9fc6b005-86c8-4140-96df-607570520524"
      },
      "execution_count": 4,
      "outputs": [
        {
          "output_type": "stream",
          "name": "stdout",
          "text": [
            "Ernesto lives in Mexico, Patito. He is 250 year old.\n"
          ]
        }
      ]
    },
    {
      "cell_type": "markdown",
      "source": [
        "#esparcimiento"
      ],
      "metadata": {
        "id": "vRKHJKpeh3Sy"
      }
    },
    {
      "cell_type": "code",
      "source": [
        "lst_one = [1, 2, 3]\n",
        "lst_two = [4, 5, 6, 7]\n",
        "lst = [0, *lst_one, *lst_two]\n",
        "print(lst)          # [0, 1, 2, 3, 4, 5, 6, 7]\n",
        "\n",
        "country_lst_one = ['Finland', 'Sweden', 'Norway']\n",
        "country_lst_two = ['Denmark', 'Iceland']\n",
        "nordic_countries = [*country_lst_one, *country_lst_two]\n",
        "print(nordic_countries)  # ['Finland', 'Sweden', 'Norway', 'Denmark', 'Iceland']"
      ],
      "metadata": {
        "colab": {
          "base_uri": "https://localhost:8080/"
        },
        "id": "5qH5VQo0h3Ii",
        "outputId": "790a5def-7b96-4d30-b990-e09341d30d02"
      },
      "execution_count": 5,
      "outputs": [
        {
          "output_type": "stream",
          "name": "stdout",
          "text": [
            "[0, 1, 2, 3, 4, 5, 6, 7]\n",
            "['Finland', 'Sweden', 'Norway', 'Denmark', 'Iceland']\n"
          ]
        }
      ]
    }
  ]
}