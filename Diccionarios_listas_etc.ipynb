{
  "nbformat": 4,
  "nbformat_minor": 0,
  "metadata": {
    "colab": {
      "provenance": [],
      "toc_visible": true,
      "include_colab_link": true
    },
    "kernelspec": {
      "name": "python3",
      "display_name": "Python 3"
    },
    "language_info": {
      "name": "python"
    }
  },
  "cells": [
    {
      "cell_type": "markdown",
      "metadata": {
        "id": "view-in-github",
        "colab_type": "text"
      },
      "source": [
        "<a href=\"https://colab.research.google.com/github/ErnestoFranCh/Repaso/blob/main/Diccionarios_listas_etc.ipynb\" target=\"_parent\"><img src=\"https://colab.research.google.com/assets/colab-badge.svg\" alt=\"Open In Colab\"/></a>"
      ]
    },
    {
      "cell_type": "markdown",
      "source": [
        "#Strings."
      ],
      "metadata": {
        "id": "x4OcBoSt5cgl"
      }
    },
    {
      "cell_type": "code",
      "execution_count": null,
      "metadata": {
        "colab": {
          "base_uri": "https://localhost:8080/"
        },
        "id": "0CWIm0C_4RRX",
        "outputId": "be415696-ad1b-4c26-b45b-9878a4e366fb"
      },
      "outputs": [
        {
          "output_type": "stream",
          "name": "stdout",
          "text": [
            " AVISO\n",
            "MULTI Linea \n"
          ]
        }
      ],
      "source": [
        "#Multi linea\n",
        "aviso_mult = ''' AVISO\n",
        "MULTI Linea '''\n",
        "\n",
        "print(aviso_mult)"
      ]
    },
    {
      "cell_type": "markdown",
      "source": [
        "## Concatenacion"
      ],
      "metadata": {
        "id": "h31B1sSQ5qIN"
      }
    },
    {
      "cell_type": "code",
      "source": [
        "a = 'aviso'\n",
        "b = 'concatenacion'\n",
        "\n",
        "print(a + ' ' + b)"
      ],
      "metadata": {
        "colab": {
          "base_uri": "https://localhost:8080/"
        },
        "id": "0_p8GucQ5kyj",
        "outputId": "8dbb233f-2624-4068-8822-4e29a25b0555"
      },
      "execution_count": null,
      "outputs": [
        {
          "output_type": "stream",
          "name": "stdout",
          "text": [
            "aviso concatenacion\n"
          ]
        }
      ]
    },
    {
      "cell_type": "markdown",
      "source": [
        "## Secuencias de espacios.\n",
        "\n",
        "`\\n`: new line\n",
        "\n",
        "`\\t`: Tab means(8 spaces)\n",
        "\n",
        "`\\\\`: Back slash\n",
        "\n",
        "`\\'`: Single quote (')\n",
        "\n",
        "`\\\"`: Double quote (\")"
      ],
      "metadata": {
        "id": "aiOaWz_46Nh7"
      }
    },
    {
      "cell_type": "code",
      "source": [
        "print('I hope everyone is enjoying the Python Challenge.\\nAre you ?') # line break\n",
        "print('Days\\tTopics\\tExercises') # adding tab space or 4 spaces\n",
        "print('Day 1\\t5\\t5')\n",
        "print('Day 2\\t6\\t20')\n",
        "print('Day 3\\t5\\t23')\n",
        "print('Day 4\\t1\\t35')\n",
        "print('This is a backslash  symbol (\\\\)') # To write a backslash\n",
        "print('In every programming language it starts with \\\"Hello, World!\\\"') # to write a double quote inside a single quote"
      ],
      "metadata": {
        "colab": {
          "base_uri": "https://localhost:8080/"
        },
        "id": "NqZ0vQWX6QRc",
        "outputId": "ba3a17ff-93a4-4578-dfb8-4d6b018627d7"
      },
      "execution_count": null,
      "outputs": [
        {
          "output_type": "stream",
          "name": "stdout",
          "text": [
            "I hope everyone is enjoying the Python Challenge.\n",
            "Are you ?\n",
            "Days\tTopics\tExercises\n",
            "Day 1\t5\t5\n",
            "Day 2\t6\t20\n",
            "Day 3\t5\t23\n",
            "Day 4\t1\t35\n",
            "This is a backslash  symbol (\\)\n",
            "In every programming language it starts with \"Hello, World!\"\n"
          ]
        }
      ]
    },
    {
      "cell_type": "markdown",
      "source": [
        "## Formatos de impresion en pantalla.\n",
        "\n",
        "`%s` - String (or any object with a string representation, like numbers)\n",
        "\n",
        "`%d` - Integers\n",
        "\n",
        "`%f` - Floating point numbers\n",
        "\n",
        "`\"%.number of digitsf\"` - Floating point numbers with fixed precision"
      ],
      "metadata": {
        "id": "sPl4OgVW7BAX"
      }
    },
    {
      "cell_type": "code",
      "source": [
        "# Strings only\n",
        "first_name = 'Ernesto'\n",
        "last_name = 'Franco'\n",
        "language = 'Python'\n",
        "\n",
        "formated_string = 'I am %s %s. I teach %s' %(first_name, last_name, language)\n",
        "print(formated_string)\n",
        "\n",
        "# Strings  and numbers\n",
        "radius = 10\n",
        "pi = 3.14\n",
        "area = pi * radius ** 2\n",
        "formated_string = 'The area of circle with a radius %d is %.2f.' %(radius, area) #%(variables que se imprimiran en pantalla)\n",
        "\n",
        "print(formated_string)\n",
        "\n",
        "python_libraries = ['Django', 'Flask', 'NumPy', 'Matplotlib','Pandas']\n",
        "formated_string = 'The following are python libraries:%s' % (python_libraries)\n",
        "print(formated_string)"
      ],
      "metadata": {
        "colab": {
          "base_uri": "https://localhost:8080/"
        },
        "id": "ReJuTpy960PU",
        "outputId": "d810bbda-db43-4b6a-fc9c-d209403d3f1c"
      },
      "execution_count": null,
      "outputs": [
        {
          "output_type": "stream",
          "name": "stdout",
          "text": [
            "I am Ernesto Franco. I teach Python\n",
            "The area of circle with a radius 10 is 314.00.\n",
            "The following are python libraries:['Django', 'Flask', 'NumPy', 'Matplotlib', 'Pandas']\n"
          ]
        }
      ]
    },
    {
      "cell_type": "code",
      "source": [
        "a = 6\n",
        "b = 'Hola'\n",
        "c = 'el resuldato de  %%() es:\\n a = %d\\n b = %s' %(a,b)\n",
        "print(c)"
      ],
      "metadata": {
        "colab": {
          "base_uri": "https://localhost:8080/"
        },
        "id": "Yt3bhC6_71o2",
        "outputId": "aefadf83-c4a8-4592-bbe8-180ee234aea8"
      },
      "execution_count": null,
      "outputs": [
        {
          "output_type": "stream",
          "name": "stdout",
          "text": [
            "el resuldato de  %() es:\n",
            " a = 6\n",
            " b = Hola\n"
          ]
        }
      ]
    },
    {
      "cell_type": "markdown",
      "source": [
        "## `str.format(variables)`"
      ],
      "metadata": {
        "id": "9IzMl5Uy837B"
      }
    },
    {
      "cell_type": "code",
      "source": [
        "#Strings\n",
        "first_name = 'Ernesto'\n",
        "last_name = 'Franco'\n",
        "language = 'Python'\n",
        "formated_string = 'I am {} {}. I teach {}'.format(first_name, last_name, language)\n",
        "print(formated_string)"
      ],
      "metadata": {
        "colab": {
          "base_uri": "https://localhost:8080/"
        },
        "id": "GwkyAQ4a8uNq",
        "outputId": "f5eb5897-0667-4e27-861d-8d961904e28a"
      },
      "execution_count": null,
      "outputs": [
        {
          "output_type": "stream",
          "name": "stdout",
          "text": [
            "I am Ernesto Franco. I teach Python\n"
          ]
        }
      ]
    },
    {
      "cell_type": "code",
      "source": [
        "a = 'esto'\n",
        "b = 'es'\n",
        "c = 'una prueba'\n",
        "print('prueba 1: {} {} {}'.format(a,b,c))\n",
        "print('prueba 2: {} {} {}'.format(a,c,b))"
      ],
      "metadata": {
        "colab": {
          "base_uri": "https://localhost:8080/"
        },
        "id": "14ExVjWq9Rhk",
        "outputId": "dd91af6c-6f79-4392-ebc8-4aed61767add"
      },
      "execution_count": null,
      "outputs": [
        {
          "output_type": "stream",
          "name": "stdout",
          "text": [
            "prueba 1: esto es una prueba\n",
            "prueba 2: esto una prueba es\n"
          ]
        }
      ]
    },
    {
      "cell_type": "code",
      "source": [
        "#numeros\n",
        "a = 1\n",
        "b = 2\n",
        "print('la suma es: {} + {} = {}'.format(a,b,a+b))\n",
        "print('{} // {} = {}'.format(a,b,a//b)) #resultado entero de la division"
      ],
      "metadata": {
        "colab": {
          "base_uri": "https://localhost:8080/"
        },
        "id": "sYBEQ9k_9peh",
        "outputId": "f26918d4-8d6a-4d28-d840-3fbfbf04eb8e"
      },
      "execution_count": null,
      "outputs": [
        {
          "output_type": "stream",
          "name": "stdout",
          "text": [
            "la suma es: 1 + 2 = 3\n",
            "1 // 2 = 0\n"
          ]
        }
      ]
    },
    {
      "cell_type": "markdown",
      "source": [
        "## Interpolacion de strings"
      ],
      "metadata": {
        "id": "Kq2xvuJm-p7E"
      }
    },
    {
      "cell_type": "code",
      "source": [
        "a = 5\n",
        "b = 6\n",
        "c = 'hola'\n",
        "print(f'{a} + {b} = {a + b}')\n",
        "print(f'{a} - {b} = {a - b}')\n",
        "print(f'{a} * {b} = {a * b}')\n",
        "print(f'{a} / {b} = {a / b}')\n",
        "print(f'{c}')"
      ],
      "metadata": {
        "colab": {
          "base_uri": "https://localhost:8080/"
        },
        "id": "jUxqOxSm-vnQ",
        "outputId": "878dfd9d-74eb-4b17-92ca-c3790913b52a"
      },
      "execution_count": null,
      "outputs": [
        {
          "output_type": "stream",
          "name": "stdout",
          "text": [
            "5 + 6 = 11\n",
            "5 - 6 = -1\n",
            "5 * 6 = 30\n",
            "5 / 6 = 0.8333333333333334\n",
            "hola\n"
          ]
        }
      ]
    },
    {
      "cell_type": "markdown",
      "source": [
        "## Strings como secuencias de caracteres."
      ],
      "metadata": {
        "id": "2Z35DzIb_Bm8"
      }
    },
    {
      "cell_type": "markdown",
      "source": [
        "### Desempaquetado."
      ],
      "metadata": {
        "id": "ZnhMu929_Il1"
      }
    },
    {
      "cell_type": "code",
      "source": [
        "palabra = 'python'\n",
        "a,b, c, d, e,f = palabra\n",
        "print(a)\n",
        "print(b)\n",
        "print(c)\n",
        "print(d)\n",
        "print(e)\n",
        "print(f) #el desempaquetado debe ser completo no parcial"
      ],
      "metadata": {
        "colab": {
          "base_uri": "https://localhost:8080/"
        },
        "id": "V2QnsCTF82Mp",
        "outputId": "4d4838be-bc29-46fb-ed11-21bc5102f756"
      },
      "execution_count": null,
      "outputs": [
        {
          "output_type": "stream",
          "name": "stdout",
          "text": [
            "p\n",
            "y\n",
            "t\n",
            "h\n",
            "o\n",
            "n\n"
          ]
        }
      ]
    },
    {
      "cell_type": "code",
      "source": [
        "palabra = 'python'\n",
        "a,b, c, d, *f = palabra\n",
        "print(a)\n",
        "print(b)\n",
        "print(c)\n",
        "print(d)\n",
        "print(f) #el desempaquetado debe ser completo no parcial"
      ],
      "metadata": {
        "colab": {
          "base_uri": "https://localhost:8080/"
        },
        "id": "C_Uq5qjJ-_i7",
        "outputId": "8ff8e320-d557-42ae-d92b-54b49262113a"
      },
      "execution_count": null,
      "outputs": [
        {
          "output_type": "stream",
          "name": "stdout",
          "text": [
            "p\n",
            "y\n",
            "t\n",
            "h\n",
            "['o', 'n']\n"
          ]
        }
      ]
    },
    {
      "cell_type": "code",
      "source": [
        "palabra = 'python'\n",
        "a,b, c, d, e = palabra\n",
        "print(a)\n",
        "print(b)\n",
        "print(c)\n",
        "print(d)\n",
        "print(e) #el desempaquetado debe ser completo no parcial"
      ],
      "metadata": {
        "colab": {
          "base_uri": "https://localhost:8080/",
          "height": 211
        },
        "id": "LMudsbbg_if9",
        "outputId": "2dc7116f-e48b-4f27-a622-de29b6ec2564"
      },
      "execution_count": null,
      "outputs": [
        {
          "output_type": "error",
          "ename": "ValueError",
          "evalue": "too many values to unpack (expected 5)",
          "traceback": [
            "\u001b[0;31m---------------------------------------------------------------------------\u001b[0m",
            "\u001b[0;31mValueError\u001b[0m                                Traceback (most recent call last)",
            "\u001b[0;32m<ipython-input-35-eec3efcb4438>\u001b[0m in \u001b[0;36m<cell line: 0>\u001b[0;34m()\u001b[0m\n\u001b[1;32m      1\u001b[0m \u001b[0mpalabra\u001b[0m \u001b[0;34m=\u001b[0m \u001b[0;34m'python'\u001b[0m\u001b[0;34m\u001b[0m\u001b[0;34m\u001b[0m\u001b[0m\n\u001b[0;32m----> 2\u001b[0;31m \u001b[0ma\u001b[0m\u001b[0;34m,\u001b[0m\u001b[0mb\u001b[0m\u001b[0;34m,\u001b[0m \u001b[0mc\u001b[0m\u001b[0;34m,\u001b[0m \u001b[0md\u001b[0m\u001b[0;34m,\u001b[0m \u001b[0me\u001b[0m \u001b[0;34m=\u001b[0m \u001b[0mpalabra\u001b[0m\u001b[0;34m\u001b[0m\u001b[0;34m\u001b[0m\u001b[0m\n\u001b[0m\u001b[1;32m      3\u001b[0m \u001b[0mprint\u001b[0m\u001b[0;34m(\u001b[0m\u001b[0ma\u001b[0m\u001b[0;34m)\u001b[0m\u001b[0;34m\u001b[0m\u001b[0;34m\u001b[0m\u001b[0m\n\u001b[1;32m      4\u001b[0m \u001b[0mprint\u001b[0m\u001b[0;34m(\u001b[0m\u001b[0mb\u001b[0m\u001b[0;34m)\u001b[0m\u001b[0;34m\u001b[0m\u001b[0;34m\u001b[0m\u001b[0m\n\u001b[1;32m      5\u001b[0m \u001b[0mprint\u001b[0m\u001b[0;34m(\u001b[0m\u001b[0mc\u001b[0m\u001b[0;34m)\u001b[0m\u001b[0;34m\u001b[0m\u001b[0;34m\u001b[0m\u001b[0m\n",
            "\u001b[0;31mValueError\u001b[0m: too many values to unpack (expected 5)"
          ]
        }
      ]
    },
    {
      "cell_type": "markdown",
      "source": [
        "### Acceder a caracteres por indexacion."
      ],
      "metadata": {
        "id": "xw4c7OcwADkK"
      }
    },
    {
      "cell_type": "markdown",
      "source": [
        "![Captura de pantalla_14-4-2025_191251_github.com.jpeg](data:image/jpeg;base64,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)"
      ],
      "metadata": {
        "id": "-TBojzeLASPy"
      }
    },
    {
      "cell_type": "code",
      "source": [
        "palabra = 'python'\n",
        "print(f'accediendo a los caracteres de {palabra}\\n')\n",
        "print('atras hacia delante: \\tAlreves:')\n",
        "\n",
        "print('\\t',palabra[0],'\\t\\t',palabra[-1])\n",
        "print('\\t',palabra[1],'\\t\\t',palabra[-2] )\n",
        "print('\\t',palabra[2],'\\t\\t', palabra[-3])\n",
        "print('\\t',palabra[3],'\\t\\t', palabra[-4])\n",
        "print('\\t',palabra[4],'\\t\\t', palabra[-5])\n",
        "print('\\t',palabra[5],'\\t\\t', palabra[-6])\n"
      ],
      "metadata": {
        "colab": {
          "base_uri": "https://localhost:8080/"
        },
        "id": "OyzMk3QF_m9B",
        "outputId": "41f64313-4753-4257-b71b-b89ce78f8d3f"
      },
      "execution_count": null,
      "outputs": [
        {
          "output_type": "stream",
          "name": "stdout",
          "text": [
            "accediendo a los caracteres de python\n",
            "\n",
            "atras hacia delante: \tAlreves:\n",
            "\t p \t\t n\n",
            "\t y \t\t o\n",
            "\t t \t\t h\n",
            "\t h \t\t t\n",
            "\t o \t\t y\n",
            "\t n \t\t p\n"
          ]
        }
      ]
    },
    {
      "cell_type": "markdown",
      "source": [
        "### Rebanando strings\n",
        "\n",
        "```python\n",
        "#Sintaxis string[inicio:final:paso]\n",
        "string[0:4:1] #inicia en 0, termina en 4, cada 1 lugar. Toma en cuenta el valor en 0, no toma en cuenta el valor en indice 4\n",
        "```"
      ],
      "metadata": {
        "id": "lkijVG1HBoFF"
      }
    },
    {
      "cell_type": "code",
      "source": [
        "palabra = 'python'\n",
        "print(f'Saltando segun un paso: {palabra[-6::2]}')\n",
        "print(f'Saltando segun un paso opc2: {palabra[0::2]}')\n",
        "print(f'Saltando segun un paso opc3: {palabra[::2]}')\n",
        "print(f'primeros 3 caracteres: {palabra[0:3]}')\n",
        "print(f'los ultimos 3 caracteres: {palabra[3:]} \\nalternativa: {palabra[-3:]}')"
      ],
      "metadata": {
        "colab": {
          "base_uri": "https://localhost:8080/"
        },
        "id": "wadZaW8dAjPP",
        "outputId": "2ba535dd-b568-459a-ce1c-8d9d5eedecec"
      },
      "execution_count": null,
      "outputs": [
        {
          "output_type": "stream",
          "name": "stdout",
          "text": [
            "Saltando segun un paso: pto\n",
            "Saltando segun un paso opc2: pto\n",
            "Saltando segun un paso opc3: pto\n",
            "primeros 3 caracteres: pyt\n",
            "los ultimos 3 caracteres: hon \n",
            "alternativa: hon\n"
          ]
        }
      ]
    },
    {
      "cell_type": "markdown",
      "source": [
        "### Revertir."
      ],
      "metadata": {
        "id": "XVskUNELCOOa"
      }
    },
    {
      "cell_type": "code",
      "source": [
        "palabra = 'python'\n",
        "print(f'palabra al reves: {palabra[::-1]}')\n",
        "print(f'palabra al reves segun un paso: {palabra[::-2]}')"
      ],
      "metadata": {
        "colab": {
          "base_uri": "https://localhost:8080/"
        },
        "id": "fG5s8qKXCQsC",
        "outputId": "1ae1ffa2-40bb-4b4c-902b-acd38b60e898"
      },
      "execution_count": null,
      "outputs": [
        {
          "output_type": "stream",
          "name": "stdout",
          "text": [
            "palabra al reves: nohtyp\n",
            "palabra al reves: nhy\n"
          ]
        }
      ]
    },
    {
      "cell_type": "markdown",
      "source": [
        "## Metodos de string"
      ],
      "metadata": {
        "id": "yX-wBaQuFVXX"
      }
    },
    {
      "cell_type": "markdown",
      "source": [
        "### `.capitalize()`"
      ],
      "metadata": {
        "id": "0QiMcdF_FqrT"
      }
    },
    {
      "cell_type": "code",
      "source": [
        "#primer caracter en mayuscula\n",
        "plabras = 'python es un lenguaje de programacion '\n",
        "print(plabras.capitalize())\n"
      ],
      "metadata": {
        "colab": {
          "base_uri": "https://localhost:8080/"
        },
        "id": "BxjBFL6rFVIK",
        "outputId": "35472fb4-c584-43a5-8cf7-d284c349ed5a"
      },
      "execution_count": null,
      "outputs": [
        {
          "output_type": "stream",
          "name": "stdout",
          "text": [
            "Python es un lenguaje de programacion \n"
          ]
        }
      ]
    },
    {
      "cell_type": "markdown",
      "source": [
        "### `.count()`\n",
        "\n",
        "`.count(substring,inicio,final)`"
      ],
      "metadata": {
        "id": "s5hfGl2HF6ZO"
      }
    },
    {
      "cell_type": "code",
      "source": [
        "print(plabras.count('a'))\n",
        "print(plabras.count('a',0,19))"
      ],
      "metadata": {
        "colab": {
          "base_uri": "https://localhost:8080/"
        },
        "id": "c1SPTzj5FT20",
        "outputId": "7f9755fa-16a1-4ecb-cb61-b130f0f5b294"
      },
      "execution_count": null,
      "outputs": [
        {
          "output_type": "stream",
          "name": "stdout",
          "text": [
            "3\n",
            "1\n"
          ]
        }
      ]
    },
    {
      "cell_type": "markdown",
      "source": [
        "### `.endswith() y .startswith()`"
      ],
      "metadata": {
        "id": "5pXY-fKkGOkw"
      }
    },
    {
      "cell_type": "code",
      "source": [
        "print(plabras.endswith(' '))\n",
        "print(plabras.endswith('g'))"
      ],
      "metadata": {
        "colab": {
          "base_uri": "https://localhost:8080/"
        },
        "id": "myKREL7WGOP5",
        "outputId": "b4d0483d-676d-406b-9be5-a8998dbd8279"
      },
      "execution_count": null,
      "outputs": [
        {
          "output_type": "stream",
          "name": "stdout",
          "text": [
            "True\n",
            "False\n"
          ]
        }
      ]
    },
    {
      "cell_type": "code",
      "source": [
        "challenge = 'thirty days of python'\n",
        "print(challenge.startswith('thirty')) # True\n",
        "\n",
        "challenge = '30 days of python'\n",
        "print(challenge.startswith('thirty')) # False"
      ],
      "metadata": {
        "colab": {
          "base_uri": "https://localhost:8080/"
        },
        "id": "LlOzaVg9RJpw",
        "outputId": "0ea49511-251e-4d91-fca6-eb40211de330"
      },
      "execution_count": null,
      "outputs": [
        {
          "output_type": "stream",
          "name": "stdout",
          "text": [
            "True\n",
            "False\n"
          ]
        }
      ]
    },
    {
      "cell_type": "markdown",
      "source": [
        "### `expandtabs():`\n",
        "Reemplaza los tabs por espacios."
      ],
      "metadata": {
        "id": "vO5-VL_6Gu11"
      }
    },
    {
      "cell_type": "code",
      "source": [
        "challenge = 'thirty\\tdays\\tof\\tpython'\n",
        "print(challenge.expandtabs())  #por default son 8 espacios\n",
        "print(challenge.expandtabs(10)) #se pueden definir el numero de espacios\n",
        "print(challenge.expandtabs(0))"
      ],
      "metadata": {
        "colab": {
          "base_uri": "https://localhost:8080/"
        },
        "id": "J75os7U_G0YJ",
        "outputId": "9b67caea-0b45-41ae-cc63-8ce37f0fc88c"
      },
      "execution_count": null,
      "outputs": [
        {
          "output_type": "stream",
          "name": "stdout",
          "text": [
            "thirty  days    of      python\n",
            "thirty    days      of        python\n",
            "thirtydaysofpython\n"
          ]
        }
      ]
    },
    {
      "cell_type": "markdown",
      "source": [
        "### `.find()`\n",
        "Reetorna el ultimo indice de ocurrencia de la substring"
      ],
      "metadata": {
        "id": "walYtzCbHRbm"
      }
    },
    {
      "cell_type": "code",
      "source": [
        "challenge = 'thirty days of python'\n",
        "print(challenge.find('y'))  # 5\n",
        "print(challenge.find('th')) # 0\n",
        "print(challenge.find('x')) #la no ocurrencia retorna -1"
      ],
      "metadata": {
        "colab": {
          "base_uri": "https://localhost:8080/"
        },
        "id": "lH5qaXV0Hg9m",
        "outputId": "b6a9e0b9-63c4-4b3f-85b3-20ffe09c4424"
      },
      "execution_count": null,
      "outputs": [
        {
          "output_type": "stream",
          "name": "stdout",
          "text": [
            "5\n",
            "0\n",
            "-1\n"
          ]
        }
      ]
    },
    {
      "cell_type": "markdown",
      "source": [
        "### `.isalnum()`\n",
        "Comprueba si una cadena es alfanumerica, los espacios no son alfanumericos."
      ],
      "metadata": {
        "id": "Ly_Pu3wIKaGH"
      }
    },
    {
      "cell_type": "code",
      "source": [
        "texto1 = 'hola1'\n",
        "texto2 = 'hola como estas'\n",
        "texto3 ='¿hola?'\n",
        "\n",
        "print(texto1.isalnum())\n",
        "print(texto2.isalnum())\n",
        "print(texto3.isalnum())"
      ],
      "metadata": {
        "colab": {
          "base_uri": "https://localhost:8080/"
        },
        "id": "oWy3W_t3KeMa",
        "outputId": "8aab34f2-40c6-49a5-b4d5-d17cde0d9be3"
      },
      "execution_count": null,
      "outputs": [
        {
          "output_type": "stream",
          "name": "stdout",
          "text": [
            "True\n",
            "False\n",
            "False\n"
          ]
        }
      ]
    },
    {
      "cell_type": "markdown",
      "source": [
        "### `.isalpha()`\n",
        "Comprubea si son caracteres alfabeticos."
      ],
      "metadata": {
        "id": "97YAVdMgK6Xb"
      }
    },
    {
      "cell_type": "code",
      "source": [
        "texto = 'Estos son caracteres alfabeticos'\n",
        "texto2 = 'ñó'\n",
        "print(texto.isalpha())\n",
        "print(texto2.isalpha())"
      ],
      "metadata": {
        "colab": {
          "base_uri": "https://localhost:8080/"
        },
        "id": "fpRVlD8uLC_a",
        "outputId": "d65847c7-45f6-4e22-8900-911204f9f2cd"
      },
      "execution_count": null,
      "outputs": [
        {
          "output_type": "stream",
          "name": "stdout",
          "text": [
            "False\n",
            "True\n"
          ]
        }
      ]
    },
    {
      "cell_type": "markdown",
      "source": [
        "### `.isdecimal()`"
      ],
      "metadata": {
        "id": "2H92rXD2L9ve"
      }
    },
    {
      "cell_type": "code",
      "source": [
        "challenge = 'thirty days of python'\n",
        "print(challenge.isdecimal())  # False\n",
        "challenge = '123'\n",
        "print(challenge.isdecimal())  # True\n",
        "challenge = '\\u00B2'\n",
        "print(challenge.isdigit())   # False\n",
        "challenge = '12 3'\n",
        "print(challenge.isdecimal())  # False, space not allowed"
      ],
      "metadata": {
        "colab": {
          "base_uri": "https://localhost:8080/"
        },
        "id": "vlO-Xy5tMEjT",
        "outputId": "3b3761d1-af54-48d6-e453-4e5ca5023985"
      },
      "execution_count": null,
      "outputs": [
        {
          "output_type": "stream",
          "name": "stdout",
          "text": [
            "False\n",
            "True\n",
            "True\n",
            "False\n"
          ]
        }
      ]
    },
    {
      "cell_type": "markdown",
      "source": [
        "### `.isdigit()`\n",
        "comprueba si son 0-9 y algunos caracteres unicode para numeros"
      ],
      "metadata": {
        "id": "PKULjeddMR6S"
      }
    },
    {
      "cell_type": "code",
      "source": [
        "challenge = 'Thirty'\n",
        "print(challenge.isdigit()) # False\n",
        "challenge = '30'\n",
        "print(challenge.isdigit())   # True\n",
        "challenge = '\\u00B2' # ^2\n",
        "print(challenge.isdigit())   # True"
      ],
      "metadata": {
        "colab": {
          "base_uri": "https://localhost:8080/"
        },
        "id": "jskqhU7FMcjW",
        "outputId": "e4472dbd-2412-47d9-a889-d9879274c4ac"
      },
      "execution_count": null,
      "outputs": [
        {
          "output_type": "stream",
          "name": "stdout",
          "text": [
            "False\n",
            "True\n",
            "True\n"
          ]
        }
      ]
    },
    {
      "cell_type": "markdown",
      "source": [
        "### `.isnumeric()`\n",
        "Igual que el anterior pero mas perro (identifica mas caracteres)"
      ],
      "metadata": {
        "id": "Hrm2nQZ5NJxR"
      }
    },
    {
      "cell_type": "code",
      "source": [
        "challenge = 'Thirty'\n",
        "print(challenge.isdigit()) # False\n",
        "challenge = '30'\n",
        "print(challenge.isdigit())   # True\n",
        "challenge = '\\u00B2'\n",
        "print(challenge.isdigit())   # True"
      ],
      "metadata": {
        "colab": {
          "base_uri": "https://localhost:8080/"
        },
        "id": "ZEyhVOwCMlk8",
        "outputId": "43e7be58-f605-4e99-a9fc-dd0d647dcaf3"
      },
      "execution_count": null,
      "outputs": [
        {
          "output_type": "stream",
          "name": "stdout",
          "text": [
            "False\n",
            "True\n",
            "True\n"
          ]
        }
      ]
    },
    {
      "cell_type": "markdown",
      "source": [
        "### `.isidentifier()`\n",
        "Comprueba si es un identificador valido.Un identificador debe cumplir estas reglas:\n",
        "\n",
        "- Comienza con una letra (a-z, A-Z) o guión bajo (_).\n",
        "\n",
        "- Seguido de letras, dígitos (0-9) o guiones bajos.\n",
        "\n",
        "- No puede ser una palabra reservada de Python (ej: `if`, `for`, `class`)."
      ],
      "metadata": {
        "id": "dU4KTb5GNzmq"
      }
    },
    {
      "cell_type": "code",
      "source": [
        "challenge = '30DaysOfPython'\n",
        "print(challenge.isidentifier()) # False, because it starts with a number\n",
        "challenge = 'thirty_days_of_python'\n",
        "print(challenge.isidentifier()) # True"
      ],
      "metadata": {
        "colab": {
          "base_uri": "https://localhost:8080/"
        },
        "id": "fC5YSdDdNzcy",
        "outputId": "c2e074af-7e84-4520-e08e-44d0095c502c"
      },
      "execution_count": null,
      "outputs": [
        {
          "output_type": "stream",
          "name": "stdout",
          "text": [
            "False\n",
            "True\n"
          ]
        }
      ]
    },
    {
      "cell_type": "markdown",
      "source": [
        "### `.islower(), .isupper()`\n",
        "Verifica si todo el string son minusculas o mayusculas."
      ],
      "metadata": {
        "id": "l0kzu7E4OOX8"
      }
    },
    {
      "cell_type": "code",
      "source": [
        "challenge = 'thirty days of python'\n",
        "print(challenge.islower()) # True\n",
        "challenge = 'Thirty days of python'\n",
        "print(challenge.islower()) # False\n",
        "\n",
        "challenge = 'thirty days of python'\n",
        "print(challenge.isupper()) #  False\n",
        "challenge = 'THIRTY DAYS OF PYTHON'\n",
        "print(challenge.isupper()) # True"
      ],
      "metadata": {
        "colab": {
          "base_uri": "https://localhost:8080/"
        },
        "id": "firtLkX1OQUz",
        "outputId": "d5f83a5d-5193-4b33-fa8e-a101cd57a60b"
      },
      "execution_count": null,
      "outputs": [
        {
          "output_type": "stream",
          "name": "stdout",
          "text": [
            "True\n",
            "False\n",
            "False\n",
            "True\n"
          ]
        }
      ]
    },
    {
      "cell_type": "markdown",
      "source": [
        "### `.strip()`\n",
        "Remueve caracteres asignados."
      ],
      "metadata": {
        "id": "R8pv2tmPPNCY"
      }
    },
    {
      "cell_type": "code",
      "source": [
        "challenge = 'thirty days of pythoonnn'\n",
        "print(challenge.strip('noth')) # 'irty days of py'"
      ],
      "metadata": {
        "colab": {
          "base_uri": "https://localhost:8080/"
        },
        "id": "7AdLt9ovPMn3",
        "outputId": "e83d9fc0-2fdc-4ff7-9c7c-e344ebb2ee48"
      },
      "execution_count": null,
      "outputs": [
        {
          "output_type": "stream",
          "name": "stdout",
          "text": [
            "irty days of py\n"
          ]
        }
      ]
    },
    {
      "cell_type": "markdown",
      "source": [
        "### `.replace():`\n",
        "Reemplaza una substring por otra"
      ],
      "metadata": {
        "id": "fe_hTWOOPe93"
      }
    },
    {
      "cell_type": "code",
      "source": [
        "challenge = 'thirty days of python'\n",
        "print(challenge.replace('python', 'coding')) # 'thirty days of coding'"
      ],
      "metadata": {
        "colab": {
          "base_uri": "https://localhost:8080/"
        },
        "id": "wctDaHnJPezR",
        "outputId": "053c447c-5b97-43c1-fd2a-b53d4c436469"
      },
      "execution_count": null,
      "outputs": [
        {
          "output_type": "stream",
          "name": "stdout",
          "text": [
            "thirty days of coding\n"
          ]
        }
      ]
    },
    {
      "cell_type": "code",
      "source": [
        "print(challenge.replace('y', 'a'))"
      ],
      "metadata": {
        "colab": {
          "base_uri": "https://localhost:8080/"
        },
        "id": "LlVEQM_NPo3z",
        "outputId": "008ecf3b-b137-4f44-a6ff-1001b24422f3"
      },
      "execution_count": null,
      "outputs": [
        {
          "output_type": "stream",
          "name": "stdout",
          "text": [
            "thirta daas of pathon\n"
          ]
        }
      ]
    },
    {
      "cell_type": "markdown",
      "source": [
        "### `.split():`\n",
        "Rebana una string y devuelve una lista, dando una caracter como separador."
      ],
      "metadata": {
        "id": "2gB35m4bP9Tp"
      }
    },
    {
      "cell_type": "code",
      "source": [
        "challenge = 'thirty days of python'\n",
        "print(challenge.split()) # ['thirty', 'days', 'of', 'python']\n",
        "challenge1 = 'thirty, days, of, python'\n",
        "print(challenge1.split(', ')) # ['thirty', 'days', 'of', 'python']\n",
        "\n",
        "print(challenge.split('ir'))"
      ],
      "metadata": {
        "colab": {
          "base_uri": "https://localhost:8080/"
        },
        "id": "xfegMwvqQHP_",
        "outputId": "b0655620-fd9d-45ed-ef16-87d01661f0c1"
      },
      "execution_count": null,
      "outputs": [
        {
          "output_type": "stream",
          "name": "stdout",
          "text": [
            "['thirty', 'days', 'of', 'python']\n",
            "['thirty', 'days', 'of', 'python']\n",
            "['th', 'ty days of python']\n"
          ]
        }
      ]
    },
    {
      "cell_type": "markdown",
      "source": [
        "#List"
      ],
      "metadata": {
        "id": "djB5sgEMeUD8"
      }
    },
    {
      "cell_type": "markdown",
      "source": [
        "## Creando listas"
      ],
      "metadata": {
        "id": "vXZYMs26ellT"
      }
    },
    {
      "cell_type": "code",
      "source": [
        "lista1 = list()\n",
        "lista2 = []\n",
        "print(lista1)\n",
        "print(lista2)"
      ],
      "metadata": {
        "colab": {
          "base_uri": "https://localhost:8080/"
        },
        "id": "A58d5KSkej7V",
        "outputId": "43e75514-c9bd-4836-f434-7db610734421"
      },
      "execution_count": null,
      "outputs": [
        {
          "output_type": "stream",
          "name": "stdout",
          "text": [
            "[]\n",
            "[]\n"
          ]
        }
      ]
    },
    {
      "cell_type": "markdown",
      "source": [
        "## Diferentes tipos de datos dentro de listas"
      ],
      "metadata": {
        "id": "mkhju7kXgH-c"
      }
    },
    {
      "cell_type": "code",
      "source": [
        "lst = ['Asabeneh', 250, True, {'country':'Finland', 'city':'Helsinki'},(1,2),[1,2,3],{'rojo', 'azul', 'verde'}] # list containing different data types\n",
        "lst[:]"
      ],
      "metadata": {
        "colab": {
          "base_uri": "https://localhost:8080/"
        },
        "id": "C5q7fqyQgLkE",
        "outputId": "187445c9-bec5-4f95-ef59-db8562551c26"
      },
      "execution_count": null,
      "outputs": [
        {
          "output_type": "execute_result",
          "data": {
            "text/plain": [
              "['Asabeneh',\n",
              " 250,\n",
              " True,\n",
              " {'country': 'Finland', 'city': 'Helsinki'},\n",
              " (1, 2),\n",
              " [1, 2, 3],\n",
              " {'azul', 'rojo', 'verde'}]"
            ]
          },
          "metadata": {},
          "execution_count": 123
        }
      ]
    },
    {
      "cell_type": "markdown",
      "source": [
        "## Accediendo a la lista por indice.\n",
        "\n",
        "Similar a la particion de los strings, podemos acceder al contenido de la lista segun su indice.\n",
        "\n",
        "```python\n",
        "#sintaxis [inicio:fin:paso]\n",
        "```\n",
        "Si se define el fin, el rango seria `0,1,..,fin-1`\n",
        "No definir el fin selecciona el rango hasta el ultimo objeto de la lista. Ej. `[0:]`"
      ],
      "metadata": {
        "id": "vqwt0O6GhAvD"
      }
    },
    {
      "cell_type": "markdown",
      "source": [
        "![Captura de pantalla_14-4-2025_213615_github.com.jpeg](data:image/jpeg;base64,/9j/4AAQSkZJRgABAQAAAQABAAD/2wBDAAEBAQEBAQEBAQEBAQEBAQEBAQEBAQEBAQEBAQEBAQEBAQEBAQEBAQEBAQEBAQEBAQEBAQEBAQEBAQEBAQEBAQH/2wBDAQEBAQEBAQEBAQEBAQEBAQEBAQEBAQEBAQEBAQEBAQEBAQEBAQEBAQEBAQEBAQEBAQEBAQEBAQEBAQEBAQEBAQH/wAARCABQAkwDASIAAhEBAxEB/8QAHgABAQEBAQEBAAMBAAAAAAAAAAkICgcGBQMECwL/xAA9EAABAwUAAQMDAwEEBQ0AAAAFAwQGAAECBwgJChIUERMVFhchJCMyQXgYNTg5txkiJTE3UXV3ebS1trj/xAAcAQEAAwEAAwEAAAAAAAAAAAAABQYHBAIDCAH/xAAmEQABBQEAAwEAAwACAwAAAAADAAECBAUGBxESExQhMRUiI0Fx/9oADAMBAAIRAxEAPwDv4pSlESleH756a515ajAmbdKbz1NoOHnjyUWCSjcE/jGvABaSrjyBZEAOLSomLZPDCosSTIpjm6yjrNkPeOcUrotlc8PqdSbh1RvzXsf21o/ZMH27q6WflbxjYet5QGmcLkP4I2SjRr8NJY+8fiCX4mQhywMj8R2r8MqNfMHH23TVZLAi9HpSlESlKURKUpREpSlESlKURKUpREpSlESlKURKUpREpSlESlKURKUpREpSlESlKURKUpREpSlESlKURKUpREpSlESlKURKUpREpSlESlKURKUpREpSlESlKURKUpREpSlESlKURKUpREpSlESlKURKUpREpSsxb97W4/5UJx0L0z1DoPn8vL2L0pFRm49rwnXL+RjRrhFoQfhGkrNClybRi6cIN3bhngskgsskmrljnnja5Fp2lfiRqSR6ZRwBMIkbFSaKSsIKkkZkgJ+2Kg5BHjrFAoFNhijJRZmSFFhrps/HP2iyrZ40cIuEFFElMMr/ALdESlKURc2fqMwweRq+GOPSESNPAD3mw4xDHAZli1KBzIcplNWJMSWGPkl2REaRZLrs3zF4gs1dtVlW7hJRJTPC/RLDYRDNcxsbDdexGMQSHhvmfiIpDQAqLxsV+Qfuir/8aCCNGItj84m+ekXnxWqXyX7x08W97hwqpnz2eoa/174Tf/XC4j/95MK6OqIuW7pSOTFx6s3x7yZoCkq8KY+N+fsCkgbiyikWZlc3/Zd0mT8qkhkJbkM7O2F02zhxg5ys5Z+3C/3kfdrH1NThw18HXdThqus2XTD6I+2sgrmirh7uotI4ZexRPLHPH3YZZY5e3K31xyvjf+L3tV4Kgz6nH/ca92f+D6H/AP1JpCiL43XXqDuCILGdKR+YCungWk3zSFakadwFOdpq14hf7EHj2cZJBB/QDi6Y0q2YyBg/HPJMNDPImliyeFLnrhG6xPCtHYXaGlOH9NIbw3OpOCUYKyqOwSKAtWQKSbRnE4m0uSfLRqLxOLxNm9dkCJlEa+UaruVWIrHFD6OCKOSyGKsre+QeiMPTX7aEskY1+y7HxmQt1rDFPFh+Bu7G6niJLRrgVe2fw8nKk1bwhwCWbqKKrFc2SjXJZ1ml7/Ei/kE6N5D8U/hN1xqiGQSbds9z66475z1QS3wSPNdaQqRyXSkNuS2RtVQW5aSww9GtCIZF9HhjxqaKGjT9XFR8swyCGCLaukPOTyrtPcutNEbQ012nxZPt3GMo5o63cHMcr5/jW45Ooo1SHRmAy0iQOR8gfOZvEEQIwk/FLl36zQOysqbJiRr/AEz2v5NeTPHxLtBxLqOXmoNboxbaaUGkrcAqXjI/9n46Ek0r/Uztq5sQZrumciEsIwNEizZiTHXaAMSOcEnLRu45b/PLr3yRao0FyJKe0O8ueNyiSfkA5qVgundVcpNdSnBOxhispKYyqLbIfbOkcocCIqEQNNCH3Y+lk7ucHpvHDFRdsmrTbzLxUBMvLZ6c4NJRjQuMQ6U6qkabN6gk5b2MQyEaVmEbe3SWwUTusLkQIUTa53x9yLpmisnlgonhniRbj5g81PKPTvTzDj/9veq+dd6yqLFpvqqK9Y89SnQ+e64mCYuSpY5q7CRuXBAs1aB2BQvikdHR149GiC7oe2d4jXdkvUe1vKRoviHYEL09JNVdVdA7rn8ScT2Oae5N57mG8p0rDGxhzHspG9TFXFx0cyUNtHI1JB3IUiOSydlLssWyiK6k5fMYiix8qHp45G0RSQOJ9XdCRzApgnhZ5YHIde6+bmBl1vp77tHySeOKqV73x/vZY2xyyyvf1jqbtnt3bnkofeMDx8EOfdPSnWnOQbo7ofo/oOKyHY7kPH5HJGcfjEK1Pq+PSCNonzCWZ4KVLmZMSyCJoGHTLG4h6PbZSEi2VxT5TOY+5JvP9PQcduXTHRGrQzGTz/mbqDVEh0bvqOxEiowbNJhnBpHdexSM/PJsBjwqDJlEhT5+KSLYsUzgJUn5dvXzV8Y6B6I3ZyZImm9pv0jpRvrHNTS+ntNSLauxdpvNrQrDYYIbp2JRBYgdmS4WIZ3MTQg4YBQETSxSTKmUlno1N7FHW8d6h1r6nfkSG9WdWaz6j2468fm4/wAlIdYaJFaDTjMAek9iFYzCpUCEzaa5G3lz4cpKmLki6YrN2RBhmmyyRWbOlNh8VxUA99TN5n5o6GNF5NHOa+I44FLKIJZvB4eXah1oRkLJq4ywusgiUdw6Oqu8Es8MVshjb7uOf2k/aRVS4A8mfNnkdA7SdaRQ2fCp3oyVs4VuzSO9IC81jufVEgKJEFg7WZw5y9KIM0y9hBpFkuxLkErPQhge7u1fjnLZPNW4vOFzzrDcmytKQnl/yJdPm9My0pBttS3lnjbYO1td6+lIHLHGQCjcsUdR5B3kCyzwsQcx9saZ3tljmzcO072zrLnHSKIn1Knl9ZDUUmTWR8o8XyM2g3TwSTInGEMiYlqTc44WtZR2mPWVb/dv/wA7PHPK+d8sr3vX4/PXVvlS8rcl6R2Pxlu3ljiXkrSvRuyecNfvpro0x0ZvjZh/WC47KTTaXC3k+h0Jhgg7+bGvgoZqnc00SeOkH9iGCDM8WIrY8c9o86956WHb55mneE3gzgySipxu7GkI9LILOASbRSQwGfxMyg1NROYgsX7FV+HJNsLqsX40wNXIBCgwk8gt51o5MTPlN9OQSjgKSlQ4HsPaTqVPwgso+GBmCkz5JzRcyB0xQVajmiibV7kksRURRywbusscr4pLXx/B9Ng6lmG+fOACmez4xuKRh/IGv+q9kweJM4DCp1P80JuLnk0jcKGGD4yPspIdCZurN2Jgkitikkti9Xwywyt1X0RKUrLF+3uSLdPY8W36B1pbq3Jt8zHQv59L9xrtbQfLZX37AvZ937f6Cxylfu9/+prXdf3f4oi1PSlKIlct3p/45MQne/qIHsmBSUQNO+SCSv4u7OiyjBiYFZbW6aVwegFyCCTcgPyRcNFMXI7NZtdJdtnbP2KpXy6kaURY07f745o8euqRu2ulJgRCDZNKBsE19DopHyUz2TtCeGPdcZDddwgIksVkRxzhhmqpbGzYaxStioSIM8VkLq5o5H8yXK/We9ceXVYR0xy30oRizmcw/RfZeipDoHYexoYxTIuSEk18wLvCwySsmI8W9LrNECqRdQO1IFGo1wyCH1hU/wDyM4sSPqHfBGI2b8dTWDeF9pm9ftTKn/QC272OrCDgcv8AadZYsLHmD1nrx1HFkvcQ/UWINJvb72bW2bztYsmPdfp9TUT+Oju3/lJwIQIs1U+wfW0mXcwRtvtvgo2ys/Uj34NSPpnU7YKMLIu003tsUnWWCxFZrsnuzQHCInRh7oMoeCheguhIBzRCCocU2IDh+w9jNjjwE9lz14SGNY7D2jSPE3JyRrqrIi0EsVVW+ad8ssMUag863Hu898650trzW/YL6K7flacH1V1AV5inUf5U2DKHfy/xQ6MbWM5M3L1udu0t+FNKRhACQTdM10ilmy9lscVep719Gdtap8V+qpowSKw7ZvmI5L19LBa+N80CUZmcb2zHDzBbHHLDLJJ4LJOm6mNs8L3wUytbLG9/rbppZsGI5kzGD2TRiOHtmzNgPZtkWrJi0ZJppM2rNohhgg2bNEkkkmyCKeCSCaaeCWOGOGNrEUmemvMloXnHfk05nB86d49U7g1kjFltnx/j/k6c7rYa8tM4qHnEeTkkhTcx4Dms9iB8WfySBkDWbdq4ybOLJkkHDFLTnEnkB5p8gUGlky58kp/MpriUrwbbWr9hxQxrzcGoZmhk6tjG9k68kSLczHXztNm6VHOfo7FEfiEG7Iiu9FFmrGUgzr7yTeQvsbtrQ/BmyuZeRdCcMbWaaGnW2ttapOb53VtHcCbFa8mcAYEjMojD43BwDoOQFDnphwoRLYIs3rZ2++SQExXK/hYR2xHfOP5uIduXeUK6F2YOg3HjbZu09b63Yaghksmkdgf426SGuxMjlTAMZhTZ+5hEiV/MOHT6TCD5F3g2eP3aNiKikh9QFxEzI7liWvoJ1t0BtbQ+6tt6R2FpPnfnSR7b2qKI6UfChc32E7Ax0lkNA6lsVLYCo9OpgbjTSTERp9oFau1Y8ZxZUP4l7c578g3P8c6T5olD6Sa8PkS8feNjod1HJZEJdHlk0JDDJlHnt8lw0kCqLts3LfBZ2xeMXjAuIIEg5EeQcxa9ObFQLSRea+bNxjRKUSHzRdeRUwYwQSxfPwMOfBC0bGOHNsLLKtBJCdSp0yQUUySbrGn6iOGGbpfJTMnjktMI/wAneqWjWoEnI6RxjyAeVbPUogDgu2UFTK+sSzKLJg0h2NnTdxgQDR1qwwY42XSuya4NcbKYYWoipTb1CvADvYswjseGdMzPSmup1+22xe2YXzzMZJxLAZli9YjVx8u34PzUGhRbZ8Qbpry1wH/RtmWeJxOQqR1dqXcUK497n5+7f5YjnZOmjpYdoqSJTx0hIdjjUYO6FMNbSSQReXE5A2fvl2wYYNfxks5zfu32LbEYhZ+soilfL2S28LrLQOXp3ufGz1OM30s85L3Lfcn3rMLhFVHD/ZmO+byO+eXxcssTf6xSO/PytfDBNZN17E8PbjEHnUhPxnomNnutaqv0ZHnDt4sSGY1V0g5/QRTt0uM2rhnmz/trsVdXvJgmTTy/pVhubtF7/RKOKIrrkPUc8DNlSksEa/7VmHMwGTLxaRdxQ3krZJ3joC+ZmkwD16+2yimk/XENCWSiWRIVFCKDnBDJRj8uy7Ozq58Pl8W2DEovPYNIBEthU2jwaWxGUgHzcoCkkZkQ5sXBHgxJpmo1ICi4t41fj3rdTNB00cJLJZ5YZ43vzK81cIeUfa3j60jrDXvk35IT5U2lyZBYhHteNfHbHDIRbS+wNUjxtou5Ls97N8DXzIsZVYFjOOCTku8WeEnHtduVb1Zbxhccyzx/cMaH4+me3Et5GNJDJcBb7KRi7mGJmAJnYMslsaGYR13IpUswRiYCQDok1tc25wWZg26yabbDPFukRRm8c8cmDD1Ivm5PlQUlZRQvrTndOPGiAso3jxRZCFatwdYBiLlDAa9URUTWxcYsVlck801bKWtljna3UhSv4XDhFqgu6cqYIt2yKrhdZS/twSRRwyUVUzy/wwTwxyyyv/ha170RfzUrL3Mfa/J3Z4uWGuVd+633wJgj8WLmL/XR1I42jpE03duxLMoonhhZuu/bMHizbC/1uom3Vyt/drUNESpueYlgVK+KnyHDQTIgSMvuP98tRbAS2cvCbx8tr05g2bsGrPBR04dqq3xwQRbp5rKKXxxTxvle1qpHSiKSXgeGGw3iB4FFyQeVEnGWihqJIcbaO2JZo5tID+V0nzR+mk8QXtjljldNwngpbG+N72+l7VnqZepB8dUBm8picmYdNM47rbo+S8u7l3KloGROtGaR2PHZItFU19n7NbkMwggHIybEwtG0xP5yUPRQQmYdxhgNxaOXd8q/z8d6CmF/Ty+ordXbJfJz82u7SN1/t4XVs8R7H48HYLWz9vutnZjbJr7vrfKyKiuFr2xzvaiLrJ4m8unLHeG6dj6A1XH9+a/2bANfhtxCgW/dNn9QrbW0jICzYGH3TqpsfXUJntbkCREKiyLmh0bfvUzotyzFOG2blVr4ttDzqc5QPa+0NUwblvyN9KZaTncu1ptvY3NHF+w9maqgUygBh7H5uKLTBZ1H/nYRgywdMSJCPjzI5W6dnI92+ZZ4OcvDT7VuE9Spy63GIptEXXhgn8fWwSwxwtkID9Kt3w5l9MLY2si1c4WUST+nswvfL2Y4+69eccr9UeWHy3DNtdBcib55T4d5JjW7tjag08wlGhC/R29p8210X+EVnGxUSWwYfDIflIXDtByxAi0rv2SeThNzg9QTYySQkVxeVuy+du1NBielOcJ+22Bq4ngVQdu0WT4VIIzII+lgpI4ZMIwWRZmYxMQGSiWBIEWat17JuGRBpm7EkRpB3JZP1Knj+PaZD701Zr7s3fEKuFMybY+WkOZpFsBXn+MhpTJIuoc6BMsjLeGavRfXipSSjhZeVqyJxDFRMqzDIiTYld5kj02BA6tEfNONO7Dju1XjPyXdEPSexIVG2kLg0/kz8Gk2kuwodDBxQ0Mi0dmzwUibDBB5Ug1HCFhzFB4ug1Ryt736VeBxFDwa8944gBmSe0Jb0oXnqObNvklKH2e79g6/UWMYfbtZ/krD4mAAKZOvu5ZDRjVnfL46CSeBFbfXPXXOe1OXQ3aEQ2nHFuZjOsyG38drllVwIAVAArB8RkRmRYmEWT2P5xhMWVbSUeWbNSAMgLIjiDZF40WRxkUy9Sj49cogb2rI4X2Rr7QmDCUOtc9I7E5bm8R0HvYjFRxQq5i2nNkEXGIs5LyzMKUtHI3JE4mTOP2lwzFHM0s2HLc78CJT/P0RmxG8PcEc8hcwkAknYdm6s/a6+c+QMO9lzdt8O33bj1m5MlnIcVP6W8ceHrvL/E+9auhnzEstAY+nU362Fpxm2kGnG+nctOfYsP8AwKdm6ms/2Dyj98Mvh2vlILQrCP5Mcr3zzUa4s75+/C2RFWIv2pzlFePA3eE+n7bXPM5jTUG3t+uZozdDlhsD2MBAn4hZ+FZ4ESakkMJyYIIYRcWgSMkpGRaABLUgSdNkFpt6g9QbxBs7YmooPLte9hc1x7oU0MjvPm7OoeaZVqHQ27jJ1FNaPM9fbNevygt3jIbKpJh3xlAKOdKrIY5PEvktrrSH8qubdT0+vg7FypRNPTJ3ZniUE9C2dr5Ih1dNKc8O3Z1KRWyzSZKArHWkbXdfkVMWabpBire1lsEVUqWeqTYwPHwj9SLyXAa1KgD/AD2/1SrayCJMbsBHfutR49SJWtkmqiVtE3kraOLjrfJQi68gzwti3TXyxIuhquW/0vkcmMdgXlCwmAKSglSPk23WQD4SQWUGKPhCwaNWbvhuJRBDJ0OVyxzsi5a2zbZ3xythne9r10iaVcSp1pvUrqdWVtN3Os4G4mNnGSuS9pUtFhSkhstkvay+Sti+Tz7mS1rK3z911LWz+tq9MoiUr4LaO0deaT15L9s7Zl4SAa2gAR5JJpNJI7xYAY0BYY2zelSrzK2WLZm2xvbJVW9r2xte38V8loDo3RfVOt2G3+dNpRDcWsChIsHHziDE8C8fdlATq7EwxQep4445uBzvHJu6w+n1TVtfG9EXtVKUoi5r/VggJZJfD5sEXCwkiPnc93aMWSHRcaSKls26MqWycKpsxKK7zJFLC9sl88U74YY/ype1q6EdT4Kpas1omvgomsnAIbgsmrjlgrgrhHRuKmCmOdrZ4qY52vjnjla2WOVr2yta9r19/SiLj+8zXj/5A547a8RnVemtLCoN0B0L5vuVVNybHYyScEX84zlmx1JrIbvRBuTk40PsSk7NsWVxCBRmKSiVkG1kWeWbfLsBrm+9Qm4QETnwdyYoqmwj4LzbcZrGTDrKyQ8Yj+UNvrqvHGX0TQTszGEHN8872xsizcKXvbFPK9qu+TkhPhPjg74KasVfobFHcbdKvYa5EKu0DTU8207MFmLwCqx/rMJC0Uw+SAu3vZW5hJljjlje/wBbEWC596hnhmLyXYrTXuvOyel9XacNko/uHpnmLl+abc5m1gRBtk3cgyk+2xzlgLXHgklPe/LRxoeF5o43esHj0fmk7U2bvfyj8baB40h/fkg2M5mfLM8IQJjF9ja1DOJSmQR2KZsBDEchSiowk0bDiVl20laPEEDUedMiA8iJSKMnLBOCfh15X8oUi8XnHxLlvyUct610FK9PNywDWrngWNbCcxt+bKGFJ/HJTMP3oGYTGSs5wrJx8uMvRLB0SNpEbvh7Rb7rRLxzuLxzSrxpeCQXyfOdzBN7j1fJRoCeR4oC1651tHYtFNk7shZB5r8VFH0wnF0hjCSWlBhFXAvghnhIsm12WObZVy7IqoLepO4OSy2bH7ak7sz27rJYeRc875ckzZrvuU63fx4rLc92xvX79+0VZ6eFxUV+ojsumxCHKhBJaPuiQtvY8Lxc05D+QfkknxGJ8iL3bIuM8mFNbsdo57Kk7IiM/FgHzxMPgLIgk2zozeWpydW0Nxio1mRMEJh9uPB2xJ+5aJuJXwwAIc+qB6BXXYt1FSHhigrZ5nmknlddEj1KLYPMFL3wvfKy7QSPQU9172ySbJ4ZWvjhja3OI7e2f+lT8No2YuMP2bLeTWNx7oG7xfNISppNLqvsJYs3kfuzTZKAUTDKM5L2IqYs0lmo9TK1lk0lUyLqO1B6g3iDZ2xNRQeXa97C5rj3QpoZHefN2dQ80yrUOht3GTqKa0eZ6+2a9flBbvGQ2VSTDvjKAUc6VWQxyeJfJbXW3T2z5E+YvHwjo4j0/KSkJj2/NqtNRRaWJjUHMXjh5wOXLODc9LuSDFKMxEWMbOHpU7li8s0boqZ/FU+n0vMr1SbGB4+EfqReS4DWpUAf57f6pVtZBEmN2Ajv3Wo8epErWyTVRK2ibyVtHFx1vkoRdeQZ4Wxbpr5Y5y80kdebBf8Ap0I9uMWkZKSXyScmJbLCl0vmNiplePgHEqFl275PP5rR8SxetCbZ4ne7tuquivj/AGmdqIqJ6K85nHe8enNe8qOoH1joee7rYln/AD5Jem+bpro7X3QaIZh+VcW1Qbl2SRYldyMxUdDVZFH4y2Jq4oCmThY2TDjCNJumEXDjnDoFu0SWXdr6R2si1QbYZquFnCsEPYIJIJpWyUUWUUyxwSwTxvnnnfHHC18r2tULPUAoItNxeCOSN0UkzrDzUclR9mUsnh8xuFlJpZKQjElr2vng0L4Cx+L5HG9sF/ht752vdFO+PSDRFzu+liBSiOeGPn4TMQ58CeQn/QGbkbJh5EWXRSX3NMVW2a7Mqig9TTWb5pqoZKJ2xURywzTvfDLG9/bPUJ6v1pK/Ex3FOpRruCySbQjn+QZwuYn4kAMSqI5rnAWa+cYkJEe5LgMls7WzVyFPGl1M7Wyzvle1r1bapB+fX/c3eQr/AC+m/wD5kHRFr3x7f7AvD3+UDmn/AIMQqtf1kDx7f7AvD3+UDmn/AIMQqtf0RKUpRFGPzOcMdQ9sQ7ikjyUT0ay2jyP3Vpzr5Nh0DJJzGIJImuoRctXYR5V9r6Ezc8qqTkRMKi8bpsxlvw9yayBZu9SbJL0u5yc9Gu9Mw1x1qJ0yD6DUtIf3AF8+GppIdQNb4So5hFf0iY2GHATB5ZeFYxtwe/MCWnx5Osaaj/vi0GTlb26lESsk918aaw8g3Ke2eP8Acx6exnWm420Sayc5rEpHg05Ypw2exXYovICTlUWmgBrmubiA1q/uQjJTFUUu+Qb4tXard821tSiLn1JenR5eOoRLVsm6j7xlPFUMkgiWieAT/QKTzl7IiGKYGWkecB04i3mttcYFsVDLaDNZg1bCDDhdzHyIhldIalRPvjxx88+RDScW0vt281gl9ZzOObJ0rs/SsgQ1/tLSOwog3WaRyV61kSY0iyDORzRfNriwcCXoz2YM3aDRsWEhCYze9KIufKX+nX533WGiqvVvYXfvVmy4JKYHI9f7b3LuyISOSa2ZwY1gccRbXgIjrAhDY6G2C9ZAstmmVwBXYEoxjw1FCbCWihBs9pv0VwhqLprpDi/qCeSPY4mf8Ly3Z8y1IIiJeMMIfIim2I4AjEiQ2KPMw8+aLsGTCOMVgqUZkERcNnirpR86JI5ot0NrUoixR0zwfqHqrenG3QWw5HsgNM+HtlyjampxkMLxgdGJDIZYIEBiLPYbI5D5EVLBkGoVqoybxs1EnybhRxmuRcp5ppJZr7X8QmpOvOhIJ15Dd+9NccdWQeGW1mpvHlLYA2DSGcaysVVMpwbYgwzHpEIlIdo/XWXZ2Vbtc1foybG/zY4OFYDq10oijfzn4QuV+bestc9vhNodQ7M6XhUN2HEpbszde0wOxj+8HWx26wx/LdwFyECbHyR+NR67CLQgdDDMIhUaj4Ya0QiSzjIk8I661ZwhqLUXa/U3eEbkex323uuYlp+G7IjhwvGHOtwgvSkXZRKKrwgQwh4yTjX5AawRXkCp6YSVu6e5KqDmopDLFthtalEWKNd8H6h1p3H0L38CkeyHe4+lNaa11XOo0XLxhfWYmPatZDWMfeRMMzh7CUsTLxEW3yMuDEzPMXCma12Q4fjlhgnPeQ+BDTjTdW69nc/dn9/8dwPpOXHNgb15+5f3uK1/qSYTqTZ4qyaThB76EnysIJSdTG6Zt1HyKb5Ifn+GjT2NBkWbBtd+lEU4/H/4tuX/ABpEOhleYMJ4Ij/Rk3jU4PwmUHQZqMQZzFArwCJCa/yZRcNI0Q92b5Zcg4m0hm8kKEb5EH8hXdLulHFHKUoiVyNcKcObp6H9Rx5BvKRuzVezdQ6u5+PvdI805TiFSeBI7kkDHVzXnB3sWH5SMYPvMtbt9bRSTmMD7DFyFNFNjxN+DKOEBDxsl1y0oiUpSiJSlKIsJd8+O3n3yLa4iEG3YrsCIyXV02HbL0tuvTUvU1/uvSmwxmSfxpdreZYMSrcc/USSSSdMywc0IcKNx5K47A2GBlBmZ+WPDXqPQfSIHsPcfSHWXcvTEFipSEal2R1vs4bNkNLxk22IjjaOsIvHYzFhAQvIBJV8OPmyVjLp3i7fuR2AhyUJqPLC0oixR2lwfqHupLmlHbcj2RHceV+qNV9d69vrkvGBGRjZOocTmEaCTK8mh8vsQg76x95+cGhLR485uk2+BJRnsVsttelKIonbp8IWqp31Ps/rbQvXXbvDewegLCMujgvIu3wkBh25iANg5HD5UaAn4VK2oycJoPHeeMkZ4q4N3r8wbHjGUjPnjRP2bhjxCcpePLd+8N8c9Etu2k/QUJ1pDtghp9NBUyBunmuWWeDqfYEnMVaTwpsXZJ50VmmzZJLJrJcT8tNlX4xgCZLIDm1S6URYq4v4R1Fwun0wnqWR7HkWPVXVO1evdhX2KXjBe4bZW37BMZKDhn6aiERsOg7GwFn+DGm7SI+2uo5+fJifvS+z/wAcgcHag4qkPWcl1bItjyB92T1HsrrbZ6GwS8YLMwextpu8HkhBwRKOw+KrDIQ0UTtiHGyFeUHW6d74vpIRyvbK22KURcK+wTfp1tVY9FPtadudfgY2tsGbEZn4goLsfdUY0Dt3oIWXUY461ccx/tq3KSUTOZwFHBXoJnOs9TlB6otg7VQhQ4czY368FfGkp528M3MXLvS8BwbyST662gX23q6ZDbLWbhd+bCn86zgEzjxJvhk1fIwWcDI7NIyTb/eYl8TIgglZVFZLGyOUWjGZ3CUZxwDlJk0Ltk5FkIH5HcG2WOOGTfAvdvchihfDDHC6WLiyd8cccb4/S1rW/doi5/x/gBh2vGT7X3Nfkm8pHK/ORAmUfNub9NdMj20CgzIs7VeOo7qc3KILIpvA48oq5dqLNFJEfeuHLpZ2uRUXyyyvZrnnRcO5n0prnQ2v38sKw/WMdRjgUrPJI9mEzKo4OHDxyUlEnIWxeHDZF87dPSBBfBO67hfO+CSSdsE8fZqURKzl2DsGXao5R6S2Tr+FyfY+wITo3aUjgOv4ZGi8wlU2nI2GGV4fFQUZAsyBcyQPyPEYMRZsma6l/k3zzxslgpnjo2lEXNR6XDxtzzgLx9uZbuuPyaF746wlrfa8117KxxACc1xDgjJePaxh5+OE0Gz4PKcxChWYSFoQbNCw1aXto0WZtn8cWTrpXpSiJSlKIlSAlfhU5YmHGXZ/DZOfdAIam7n6flfWO2pCxlWuktiR3Ysw2hrbbJMLros41U6jQiFISPV0fZMR0liUuOpBHhhs4kbp84ZEh9f6URY2KcP6nLdxa/78cyHYeG4tcc2n+XAcaQLRvHWjrX8immM6emCoZSJKSleYpF8LN2pBnMmIXAd9UVo8u5/rLTaW9P8AaSjuzNxyHQ3ZvkD5V0n0JMpDsLcPK3Oe/WEB0lIJfLcm36sex5kpCyshg7KWN22A2Qoxsy1KZBMWseAmo/HhYgUPvdSiKc3B3i65k8ccf6Mh3NV54JhPSO1zW2DkOkZiOEQOu3hYMkAQh2sMBMSAvxkKBiW7doGay1/M5DjZHBUnJCa2SiinqHAXD+p/HLyprbkDSMh2HKdaaudTd3Hzm1C0bNzl4pPZ7JdiGMTBOIxKDgHGDY1KiDUbZlGR+SItFmg6yeO013rjZNKIpg6G4G5K8cvjc2DyMthsDb3JkJ19vmSbIG7hsAn0wlcBmKUqm+zAJFpBIdBh5xFwOIGWAgYIjbMmo3u1a4OHJH2u8+PDp+O+GaS8XS/QXj87X7f7+2ttEU6gXCfjhkG09y7M1dqLZmwMswSUsjGiTmtYepEFdURs7K5KGMbYMFMYk8RelBF/1MvYjf8A0Ta/BHxaMCCZE0KjgEYZMXtcsWHiB7ImUvbO6lrkX7Zuk6e3spllna7lVW/vvfL+9e96IsNCeBNTbK8bGqPHj1FFB2x9dA+Y9I6M2AIQIvm2DorqiEQ4O0Px48wyYExxUJKIoykMcNs7tXTUgxZO/t+2yjfLB0C9Pvo1lMNLvug+yO++z9S83SUDLNFc49PbyCy7S0TPRRtZCHlJHH47BIq+nDyHY44IRxIoSaiEROOccKiTEecvRjm+lKIlKUoii36hF3uB14lOrIBoXUGyt4bX3OFiWnI1BdV6/lOyJIoxnM2ANJmZWARAUYKoDQ0Dbyh3crm0syZk7DE3K6PyU8q9k8NnCTrxxeOrnfl888yf7CBx55NttubOsXbRLa2xyC8wmoUUslldsqGihEnaICHbbBHAoPANzCyWLwg6yyqBSiJSlKIlKUoiyR23xFz95BdBnOc+kY4TOQUoYDSkOUjZp1GZrBZxGlF1o1O4LJmeKi4KVAs3TtNo7yQeMXbF8REFx5IMSID3PxHEXCbfiUBPY2n1x251gLnGcYxZ4dp7yYbxX18Pi7IwwSDa6XbwiH5gRRpuXwtIm7z8uoUzDhc8lkbs1PkbupRFBN54DtaQM7Mf9Dju3yG8Fas2DJSMqkvPfMm9hIbSggyaviscJ6yjUshcnJ60ImXuNnbxUKccMG2FkhocYLEtGTBtpOUeIHnOY8SQ3hGR7P6XOa3iG4o1vZbZcl2kKmm95jsSObJV2rkTm0/nELkzI0idlKytjaKEbYK3GZ2ZCHAi6aS+FWaURY8E8S6qD93SzyFNpBsFTdEx5nCcqk4wuVjmWr0NegdhW2UzMsAqcUSlaUzUO2+I5IuJq6B5if7BKOovP6+vAdVeIjj7WvjXZ+Kc4MnO5eVWwuZDFk9sSAQ52G+zmO1ZDuexdWUwGNa/YMDsVnkguSiBUHHxDkVgHDfJuQdIO3T6oNKIoFwL0++jWUw0u+6D7I777P1LzdJQMs0Vzj09vILLtLRM9FG1kIeUkcfjsEir6cPIdjjghHEihJqIRE45xwqJMR5y9GOaPda8Iai7Km/I892fI9jgjHGXRsT6d1e2gZeMCxp6ew7LHIYInqMhh8odFIgvfC3z2EeeRYyrb6/HPtf8NrUoixT2JwhqLto3yie2rI9kR95x51Rq/rzWaevi8YFNjmydTO3DyOBJ1hI4fLFScHequc8TY0AtGDzlO2FmMlG5WvlltalKIlRt8yfN/kO7I51nPKHHrLj1vq7e2s5BCdwyvoqa7ii09jj50XFOg7jXDXXMAnEffNcmTRz+RUkqaaqTm6ODZsqllnnhZKlEXg3K+sJBpLmHnHTEsdCXsq1FobUGsJM9AOHbsE7kEB19HooZdBXb9iLfOhLgiJcqjXD0YOdrM80VHLFotlm3T95pSiJSlKIlKUoiUpSiJSlKIlKV/RKO82A0i+TRycKMmLt2mhja98l82zdRbBHG1vpe+SmWFsLWte173y/ivx3aLO7/AOMzu/8A8b+3XnCEiTgODM8iTjCLO7Mzyk7Rizu/pmb27f27szf6/wDSwntPySc26r2LKtZr22fPzeu7YfukT1RrKS7BjOrcssM1M0pydCoZth6zXHDLB+iwxJqDnOKzB/i2INXjVvsXXOxoRtuDxrZGuJINlsJl4xEvHpAKVyUaPma18sMrZYKYJuGjxqumszIjnqLcgMIN3I8g1bPWy6Cc2vDSKbuuH49sZ9ik9lu6dj7f2HPy6uOKrw5JF9hH4ys6IK52yVVyzYR1p9E1s1LWsoopb+V1L5fweKLC0eCdp6uGWvhDNUd2b6iUEap+2zERG0Xoq6AQdhhjhik0aLpqvbJYY2TssTVzTvfHO30oGD0OxbLzdnQlSJR6/Pt6FKtXqkCfK+K4NCkAtiVo0bsSZ5Zxsk/Gu8bkGkJmCRhD+qvKPibx9g0fMOPyoekrdL4C6vC5To9jW2aejl9u9nV0eU6LRpZQMTOLzhKfVUglxqraOrA+BZIO7OV+m9y1WGlKVoC+UkpSlESlKURKUpREpSlESlKURKUpREpSlESvId8by15zhquV7i2iUUFw+INEnD27XBBcoRdOnCTMeHCMnDlpiRMEnayTZiys4SuqplfPNRNFNVXD16oteX7kfREj5x3x04aixd/uSLRiJXj8hVm84sKFXSk0WjVsmkOwkOMOTyUDunDdfP8ABXycKq5PFrqPLWXtXur0dPJ5/V0smvTsW6NG5b+b1gtcIxVqpzzMzBrWZWSDccXhUd60D+3jK2D19PrPg3k+M7vytw3Hd3q9Bk4XT9Pz+A5eayaOroW7mzuZuYDPJLQ2cYWRTtRtljY3BtsWMxowMHB1JO4WsXGzzGVR0BJxdl7DZGFFHh1nSeKTmzEwxQINLOEsc1MUl7N3CdlU8VFMcFPdjbPO1rZX/arzLSn/AGNak/8ALKBf/VRVem1NViSLWrln6+ygESXpvTfUxxlL03/pvbv6ZZxs1RUdfVpA+vwp6V6qH7f6n+Ve0UQ/uTMzSl8Qb6dmb2/t/Tf4lKUr3qNSlKURKUpREpSlESlKURKUpREpSlESvkp1PYXrGKGJ1sOUgoXDo+3xdGpJJCTYUIHIqLJtkbuXrtRNLFRw5WRatUbZZLunSyLVsmqusmnl9bWPOqOUUepJHz3jJpQzb6y1DtC2zJvrYlH7nBe0nI1ji2jYklnmUZtGrAassTyeIvhxlsRakl2qjVPH65Z8Goa+CicmXUhdv/8AjhWrlLEIXmUwxOYxJSj6BWhOVk0YP+pBBmMLOacGe08Vn8vqdPmU+03bPOcu727Gxq0qJdG/GtRoWr0KGdVGMjPpbJ6wcbOPYh/Bp3b4LmjKFAFmcf3NNducodBSdxCtPbyhU0lyCTtxjG2zh+LMvW7C18nrgQwPMRTg43ap2uu4XD4Pkkm1rus87N7XVtqeof8AYhXWG8OsOOdPctjgch6C0nvyKz7Zk410OaZCdOaYjGSuMxjM4lAZJIa2saVuyRRiCz9TO7kYpH3jRk8kbBoSuBUNzmvd0jbFS5Ohblk3RVI6eUMwqFuZKwzHBAR7Fxx2qBZOC3CFyxFpPBpOIv6gHoPlzged5DP8e7nPg6nDH3XO3tw3G9xaz73UYQKuxazs7TNdzsnnx2sXqKYY6eEc+BlnIEdmQ43aT09G2pSlWhYqlKUoiUpSiJSlKIlKUoiUpSiJSlKIlZK2p3fyBpOZLa92hv6BxWatVEESMdXdviRAOq5bpu0Ej2IViSSAKKtVkXOGBpVhldBZFX6exZPLLWtSOOxrQnjd0pIW2ztXzzqE7uSVbSnmw5bGdHDZa+lpQgSQNumk/VcuyA2Ox5sgWaMhX54w4Yq/CLkW6FnPykcq50ejpZoB2Kc82nTGOwfR1dWB7FWnAbhhXA1OpYrWjFulM8YlgRx14AI5IEIQI56/4i5Lj+w1LWXv1uy6HfuWsvN5Lh+GPm5W10B7kdGzrac+h3Mjaxc6jzlHOiQ1GzTa3rH0qsa1ipVqaNsFVo3JY7MgImUxI6Hk8ZPMUCQSQR8kzLhS49zj7274aTYLOGb1qtj/ACmu3WUTy/n6ZXva9ft1MrxEx7GP8RQPNGTxg+wkcmnUvFCYifSkYnX42TyJyUa69UIp5ZXwLx6y+Sh0etjguOLv3rNX7uSPyFqa124WiTXxcrUMCNYuhn1LhAQn+kBTsBgV4Qn6Z5QZ5f8AV5RjP59NOMZs8WrXk/kqfBeRe44mhpF2KXKdVuc/V0z1v4Z7oMrQPTGc9ZpkgE8oib9ohKWu5WnKuYwHGSSlKVLKipSlKIlKUoiUpSiJSlKIlKUoiUpSiJS9rXte17fW1/4va/8A1Xt/3XpSiKLeqAfZfj/G7G0Bqzltx0xp95OpVK+dJnHNlRKI4xMfNHeRXGA7GDSN1YmzYxwms4cLyRv9pmQzXdXQcW+bgmI2jwZzlKubtHOQ+ySIwxuDZ8/mW6dxEg+V1BamwtgPEHJFkwXyxxycoCRzIULUc4/VB09aPHbX+mcJVtOlVfK5Spk2apx3dC0DNrWaeNQtSqvVyKtuYplDVcFQFgzRgAVauS6e0WvUh+A5s0yyJtvc+ct3usXZzbXN8ri6fYa2NveQ+oxA7kNvv9nBq3K+ff246W5pZNCRbGje2NStzeXh09bdsvp3K85V6QqqlKVaFiSUpSiJSlKIlKUoiUpSiJSlKIlKUoiUpSiJWMvIVqef7x433lqnVoD9UT6YggLKOAfyoUJ+RcspnGizlP8AKSIiICtPtDx7tx735Fqnn9n7Seea6iSeezaVxaVAOpnaGZYkSFfRpWqB5heMTQDcASuWQpTgSESRgSTweY5xaTM8oSb3F7Hx3T3+I67luzyg07GpyPR4fT5tfQGYtA9/A06urTDeFWsVLBaZbFQcLI69qsaYZTiKwGbxJH4XV4YlHdaa7j5lt8MuCgsSDFWn3kHHxSQwAPZPm3yGqq7Vf7DpBVL7zZZZBX2+9FVRPLHO/wB1SldIhxCIYYu7xEOA4vL08njCLRZ5OzMzu7M3v0zN7/xm/wAUNetkv3bl40YRNdtWLZYiaURxJZLM04jaUpyaDSm7QaU5yaLMzyk/t3UpSvYuVKUpREpSlESlKURKUpREpSlESlKURKlZ5RJruRlHNM6u1zCelZDr7ZcvMKb/AD/LmuTk32UM1hGmg268RDkWGTQXGns/fGMWPzH5RksoLElrYYP2WD8SSqnSonczJ7GVbzB3C0HtxHCdkMWmRhRMMhg/Lyh7HaDCdUzNOLuExPl2l6dr1407Kt4+7fC7K1z1HqYYRblkONolcFUl0udbq5979WBZ+LONesV9mhKQCwjfoVXIOY2nCUhubOmtP6cYxPTmmPGv35qKNGDgQKuYI8r3EiU3ZF22FfqvYkucTh8XIIsE1/lGpIaWKPmgxBbO180W6aFq80pXji5tnKrfxDXQ2gDYcKgq+bVzA1Awi7fkMNR/z+H9s7N6i0fXpm/t17/IvYY/b7H/ADmfzt/E0bc7Njdu6nX7XZaO7esThJr1zR3G/lseLRnGbuQjm+/qcvcIpSlKmFnyUpSiJSlKIlKUoiUpSiJSlKIlKUoi/qP0F3TF62au1B7lw0coNn6KaSqrJdZHNNF2kkvjmiqo2UyxWwTWwzSzywtipjlhe9ryB1B3TuXQkMeag7L0X05P9+wk1JxrWd6s0vnMoju8SoYfkYoYiBSIoCY43dKBXTMUswzbssW2A9JwUXbmFyQ5jYmlQupm3rZ6lvO1zZdisKyCcHBG7RshtOCUnPSIUMJWQTrQlUtRJEgIksCdiCsEg+jcV2PM4WZuYXXcDm9rk7FzH0wHjol53pcbRxIaYQxy+kq0r9gWPp1te0LexC1S1dMlbJuQJUvZNOzCcnjP01srVWo9rSXaERy1kY330Ns3e4fUV3CK2WrYxNlBSQSKvEm+Nm7Mkk3F5OV2SP27s2Kwxo9ZjyzciyQo3SldGPlhxcynl15lKKmFhMU3x+pZPKUyFIw4DHGRCTnN4CGMUPr4HCEIxi0V5A7TR8idn0Pa6tanSu9Bfe3OjnsdqVEIxCq06VaVs9q4UVOmCvWjYu2rN2z+T2Llk9khSzUpSpJU5KUpREpSlEX/2Q==)"
      ],
      "metadata": {
        "id": "undetBxyhRTb"
      }
    },
    {
      "cell_type": "markdown",
      "source": [
        "![Captura de pantalla_14-4-2025_213647_github.com.jpeg](data:image/jpeg;base64,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)"
      ],
      "metadata": {
        "id": "7TZyAo_dhTJR"
      }
    },
    {
      "cell_type": "code",
      "source": [
        "fruits = ['banana', 'orange', 'mango', 'lemon']\n",
        "first_fruit = fruits[0]\n",
        "rango_fruits = fruits[0:3]\n",
        "inverse_fruits = fruits[::-1] #Dado que el paso es negativo, python asume que el inicio es en el ultimo item de la lista\n",
        "index_negative = fruits[-2]\n",
        "pase_fruits = fruits[0::2]\n",
        "paseNegative_index = fruits[:-1:-2] #Dado que el paso es negativo, python asume que el inicio es en el ultimo item, el resultado esperado es una lista vacia\n",
        "\n",
        "\n",
        "print(first_fruit)\n",
        "print(rango_fruits)\n",
        "print(inverse_fruits)\n",
        "print(index_negative)\n",
        "print(pase_fruits)\n",
        "print(paseNegative_index)"
      ],
      "metadata": {
        "colab": {
          "base_uri": "https://localhost:8080/"
        },
        "id": "qw4a7Q0MhJyT",
        "outputId": "49b05cf8-b89d-47bb-f4fe-8582dc39aa80"
      },
      "execution_count": null,
      "outputs": [
        {
          "output_type": "stream",
          "name": "stdout",
          "text": [
            "banana\n",
            "['banana', 'orange', 'mango']\n",
            "['lemon', 'mango', 'orange', 'banana']\n",
            "mango\n",
            "['banana', 'mango']\n",
            "[]\n"
          ]
        }
      ]
    },
    {
      "cell_type": "code",
      "source": [
        "fruits[-1:]"
      ],
      "metadata": {
        "colab": {
          "base_uri": "https://localhost:8080/"
        },
        "id": "_0ltEesHmjM8",
        "outputId": "bf37e5e9-951c-42fe-8aa5-c46576918b41"
      },
      "execution_count": null,
      "outputs": [
        {
          "output_type": "execute_result",
          "data": {
            "text/plain": [
              "['lemon']"
            ]
          },
          "metadata": {},
          "execution_count": 137
        }
      ]
    },
    {
      "cell_type": "markdown",
      "source": [
        "## Desempaquetando listas.\n",
        "Sigue una logica similar a los strings."
      ],
      "metadata": {
        "id": "gk5Vup5HjqRD"
      }
    },
    {
      "cell_type": "code",
      "source": [
        "fruits = ['banana', 'orange', 'mango', 'lemon']\n",
        "fruta1,fruta2,*frutas = fruits # el * asigna los valores restantes a la variable frutas\n",
        "print(fruta1)\n",
        "print(fruta2)\n",
        "print(frutas)"
      ],
      "metadata": {
        "colab": {
          "base_uri": "https://localhost:8080/"
        },
        "id": "XcNv0Oibjtfg",
        "outputId": "24b6da6d-bc74-4212-8a34-675e325cf608"
      },
      "execution_count": null,
      "outputs": [
        {
          "output_type": "stream",
          "name": "stdout",
          "text": [
            "banana\n",
            "orange\n",
            "['mango', 'lemon']\n"
          ]
        }
      ]
    },
    {
      "cell_type": "code",
      "source": [
        "first, second, third,*rest, tenth = [1,2,3,4,5,6,7,8,9,10]\n",
        "print(first)\n",
        "print(second)\n",
        "print(third)\n",
        "print(rest)\n",
        "print(tenth)"
      ],
      "metadata": {
        "colab": {
          "base_uri": "https://localhost:8080/"
        },
        "id": "8buvZ33UldaG",
        "outputId": "38538ac0-1ec4-41b8-951d-7e92f4271a19"
      },
      "execution_count": null,
      "outputs": [
        {
          "output_type": "stream",
          "name": "stdout",
          "text": [
            "1\n",
            "2\n",
            "3\n",
            "[4, 5, 6, 7, 8, 9]\n",
            "10\n"
          ]
        }
      ]
    },
    {
      "cell_type": "code",
      "source": [
        "countries = ['Germany', 'France','Belgium','Sweden','Denmark','Finland','Norway','Iceland','Estonia']\n",
        "gr, *fr, bg, sw, scandic, es = countries\n",
        "print(gr)\n",
        "print(fr)\n",
        "print(bg)\n",
        "print(sw)\n",
        "print(scandic)\n",
        "print(es)"
      ],
      "metadata": {
        "colab": {
          "base_uri": "https://localhost:8080/"
        },
        "id": "CbicWe0llxko",
        "outputId": "d6127896-9e48-49b6-8fff-922ae7c45406"
      },
      "execution_count": null,
      "outputs": [
        {
          "output_type": "stream",
          "name": "stdout",
          "text": [
            "Germany\n",
            "['France', 'Belgium', 'Sweden', 'Denmark']\n",
            "Finland\n",
            "Norway\n",
            "Iceland\n",
            "Estonia\n"
          ]
        }
      ]
    },
    {
      "cell_type": "markdown",
      "source": [
        "## Modificar lista"
      ],
      "metadata": {
        "id": "jYXBSvssoHnT"
      }
    },
    {
      "cell_type": "code",
      "source": [
        "fruits = ['banana', 'orange', 'mango', 'lemon']\n",
        "fruits[0] = 'apple'  #Acceder al indice = elemento por el que se sutituye\n",
        "print(fruits)\n",
        "\n",
        "fruits[0:2] = ['apple','blueberry']\n",
        "print(fruits)\n",
        "\n",
        "fruits1 = fruits #Crea una vista del objeto\n",
        "fruits1[0] = ['blueberry','watermelon'] # si esta vista se modifica despues, se modificara el objeto original\n",
        "\n",
        "print('\\nLas vistas modifican la lista original\\n')\n",
        "print(fruits1)\n",
        "print(fruits)\n",
        "\n",
        "fruits2 = fruits.copy()\n",
        "fruits2[0] = 'apple'\n",
        "print('\\nLas copias no modifican la lista original\\n')\n",
        "print(fruits2)\n",
        "print(fruits)\n"
      ],
      "metadata": {
        "colab": {
          "base_uri": "https://localhost:8080/"
        },
        "id": "_PCpJoSEmEFC",
        "outputId": "2626b9a0-6818-4273-d0fa-404978398ec6"
      },
      "execution_count": null,
      "outputs": [
        {
          "output_type": "stream",
          "name": "stdout",
          "text": [
            "['apple', 'orange', 'mango', 'lemon']\n",
            "['apple', 'blueberry', 'mango', 'lemon']\n",
            "\n",
            "Las vistas modifican la lista original\n",
            "\n",
            "[['blueberry', 'watermelon'], 'blueberry', 'mango', 'lemon']\n",
            "[['blueberry', 'watermelon'], 'blueberry', 'mango', 'lemon']\n",
            "\n",
            "Las copias no modifican la lista original\n",
            "\n",
            "['apple', 'blueberry', 'mango', 'lemon']\n",
            "[['blueberry', 'watermelon'], 'blueberry', 'mango', 'lemon']\n"
          ]
        }
      ]
    },
    {
      "cell_type": "markdown",
      "source": [
        "## Revisar si un objeto existe\n"
      ],
      "metadata": {
        "id": "iDnAp77xrLs2"
      }
    },
    {
      "cell_type": "code",
      "source": [
        "fruits = ['banana', 'orange', 'mango', 'lemon']\n",
        "does_exist = 'banana' in fruits\n",
        "\n",
        "print(does_exist)  # True\n",
        "does_exist = 'lime' in fruits\n",
        "print(does_exist)  # False\n",
        "\n",
        "does_exist = ['banana', 'orange'] in fruits #revisa si el objeto lista esta en fruits\n",
        "print(does_exist)  # False\n"
      ],
      "metadata": {
        "colab": {
          "base_uri": "https://localhost:8080/"
        },
        "id": "RBn2CF8irPRQ",
        "outputId": "9b372e0e-7a02-440f-ee24-0c5bb4594243"
      },
      "execution_count": null,
      "outputs": [
        {
          "output_type": "stream",
          "name": "stdout",
          "text": [
            "True\n",
            "False\n",
            "False\n"
          ]
        }
      ]
    },
    {
      "cell_type": "markdown",
      "source": [
        "## Agregar nuevos items."
      ],
      "metadata": {
        "id": "2_SnMHFBtCu3"
      }
    },
    {
      "cell_type": "markdown",
      "source": [
        "### `append()`\n",
        "\n",
        "```python\n",
        "#sintaxis:\n",
        "          list.append(item)\n",
        "```"
      ],
      "metadata": {
        "id": "o8yZSu4tusUW"
      }
    },
    {
      "cell_type": "code",
      "source": [
        "#agrega nuevos objeto al final de la lista\n",
        "fruits = ['banana', 'orange', 'mango', 'lemon']\n",
        "fruits.append('apple')\n",
        "print(fruits)\n",
        "\n",
        "fruits.append(['blueberry','watermelon'])\n",
        "print(fruits)"
      ],
      "metadata": {
        "colab": {
          "base_uri": "https://localhost:8080/"
        },
        "id": "t3oQOigntCWG",
        "outputId": "d0b125e4-4b41-454f-a5d6-5cfb4ee110f4"
      },
      "execution_count": null,
      "outputs": [
        {
          "output_type": "stream",
          "name": "stdout",
          "text": [
            "['banana', 'orange', 'mango', 'lemon', 'apple']\n",
            "['banana', 'orange', 'mango', 'lemon', 'apple', ['blueberry', 'watermelon']]\n"
          ]
        }
      ]
    },
    {
      "cell_type": "markdown",
      "source": [
        "### `insert()`\n",
        "Inserta un item en un indice especificado:\n",
        "```python\n",
        "#sintaxis:\n",
        "          list.insert(index,item)\n",
        "```"
      ],
      "metadata": {
        "id": "O0bEAZiBvfWS"
      }
    },
    {
      "cell_type": "code",
      "source": [
        "fruits = ['banana', 'orange', 'mango', 'lemon']\n",
        "fruits.insert(2,'apple')\n",
        "print(fruits)\n",
        "\n",
        "fruits.insert(1,['blueberry','watermelon'])\n",
        "print(fruits)"
      ],
      "metadata": {
        "colab": {
          "base_uri": "https://localhost:8080/"
        },
        "id": "Hscfkf0Qviit",
        "outputId": "7997d70b-b638-49b7-8c0c-49c3c7e6f437"
      },
      "execution_count": null,
      "outputs": [
        {
          "output_type": "stream",
          "name": "stdout",
          "text": [
            "['banana', 'orange', 'apple', 'mango', 'lemon']\n",
            "['banana', ['blueberry', 'watermelon'], 'orange', 'apple', 'mango', 'lemon']\n"
          ]
        }
      ]
    },
    {
      "cell_type": "markdown",
      "source": [
        "## Remover items"
      ],
      "metadata": {
        "id": "fgOSJNFY0CRE"
      }
    },
    {
      "cell_type": "markdown",
      "source": [
        "### `remove()`\n",
        "\n",
        "\n",
        "\n",
        "```python\n",
        "# sintaxis\n",
        "          list.remove(item)\n",
        "```\n",
        "\n"
      ],
      "metadata": {
        "id": "ZzP05zDCxD9F"
      }
    },
    {
      "cell_type": "code",
      "source": [
        "fruits = ['banana', 'orange', 'apple', 'mango', 'lemon']\n",
        "fruits2 = ['banana', ['blueberry', 'watermelon'], 'orange', 'apple', 'mango', 'lemon']\n",
        "\n",
        "fruits.remove('banana')\n",
        "print(fruits)\n",
        "\n",
        "fruits2.remove(['blueberry', 'watermelon'])\n",
        "print(fruits2)"
      ],
      "metadata": {
        "colab": {
          "base_uri": "https://localhost:8080/"
        },
        "id": "c8TM47lzxTy4",
        "outputId": "d626dcdc-cde4-45e3-cbee-f479ee8ff8dc"
      },
      "execution_count": null,
      "outputs": [
        {
          "output_type": "stream",
          "name": "stdout",
          "text": [
            "['orange', 'apple', 'mango', 'lemon']\n",
            "['banana', 'orange', 'apple', 'mango', 'lemon']\n"
          ]
        }
      ]
    },
    {
      "cell_type": "markdown",
      "source": [
        "### `pop()`\n",
        "\n",
        "Remueve un item segun un indice especificado. Por default remueve el ultimo item\n",
        "\n",
        "\n",
        "\n",
        "```python\n",
        "# sintaxis:\n",
        "            list.pop(index)\n",
        "            list.pop()       #ultimo item\n",
        "```\n",
        "\n"
      ],
      "metadata": {
        "id": "C145ZjP6xnGi"
      }
    },
    {
      "cell_type": "code",
      "source": [
        "fruits = ['banana', 'orange', 'apple', 'mango', 'lemon']\n",
        "fruits2 = ['banana', ['blueberry', 'watermelon'], 'orange', 'apple', 'mango', 'lemon']\n",
        "\n",
        "fruits.pop(0)\n",
        "print(fruits)\n",
        "\n",
        "fruits2.pop(1)\n",
        "print(fruits2)"
      ],
      "metadata": {
        "colab": {
          "base_uri": "https://localhost:8080/"
        },
        "id": "QqLaYwcyyKVn",
        "outputId": "9524dcfd-8436-41f8-8d63-974a403f34b2"
      },
      "execution_count": null,
      "outputs": [
        {
          "output_type": "stream",
          "name": "stdout",
          "text": [
            "['orange', 'apple', 'mango', 'lemon']\n",
            "['banana', 'orange', 'apple', 'mango', 'lemon']\n"
          ]
        }
      ]
    },
    {
      "cell_type": "markdown",
      "source": [
        "### del\n",
        "`del` es una keyword\n",
        "elimina un indice, rango de indices o el objeto completo.\n",
        "\n",
        "\n",
        "\n",
        "```python\n",
        "# sintaxis\n",
        "          del list\n",
        "          del list[index]\n",
        "```\n",
        "En general elimina:\n",
        "\n",
        "- Variables\n",
        "\n",
        "- Elementos de listas, tuplas (solo listas mutables), diccionarios\n",
        "\n",
        "- Rebanadas (slices) de listas\n",
        "\n",
        "- Atributos de objetos\n",
        "\n",
        "- Elementos de estructuras complejas\n",
        "\n"
      ],
      "metadata": {
        "id": "xgBfyjDRyjJX"
      }
    },
    {
      "cell_type": "code",
      "source": [
        "fruits = ['banana', 'orange', 'mango', 'lemon', 'kiwi', 'lime',['blueberry', 'watermelon']]\n",
        "\n",
        "del fruits[0]\n",
        "print(fruits)\n",
        "\n",
        "del fruits[1:3]\n",
        "print(fruits)\n",
        "\n",
        "del fruits\n",
        "\n",
        "'fruits existe' if 'fruits' in globals() else 'fruits no existe'"
      ],
      "metadata": {
        "colab": {
          "base_uri": "https://localhost:8080/",
          "height": 70
        },
        "id": "CtvYzds-zKn2",
        "outputId": "ff080a10-e950-4de4-ec5e-52b475ef06d5"
      },
      "execution_count": null,
      "outputs": [
        {
          "output_type": "stream",
          "name": "stdout",
          "text": [
            "['orange', 'mango', 'lemon', 'kiwi', 'lime', ['blueberry', 'watermelon']]\n",
            "['orange', 'kiwi', 'lime', ['blueberry', 'watermelon']]\n"
          ]
        },
        {
          "output_type": "execute_result",
          "data": {
            "text/plain": [
              "'fruits no existe'"
            ],
            "application/vnd.google.colaboratory.intrinsic+json": {
              "type": "string"
            }
          },
          "metadata": {},
          "execution_count": 161
        }
      ]
    },
    {
      "cell_type": "markdown",
      "source": [
        "### `clear()`\n",
        "\n",
        "\n",
        "\n",
        "```python\n",
        "# sintaxis:\n",
        "        list.clear()\n",
        "```\n",
        "\n"
      ],
      "metadata": {
        "id": "osoHbLfzz8KY"
      }
    },
    {
      "cell_type": "code",
      "source": [
        "fruits = ['banana', 'orange', 'mango', 'lemon', 'kiwi', 'lime',['blueberry', 'watermelon']]\n",
        "\n",
        "fruits.clear()\n",
        "print(fruits)"
      ],
      "metadata": {
        "colab": {
          "base_uri": "https://localhost:8080/"
        },
        "id": "2ABkcwZR0huZ",
        "outputId": "f5de2f8a-332d-46a7-e4b6-5b63145fe039"
      },
      "execution_count": null,
      "outputs": [
        {
          "output_type": "stream",
          "name": "stdout",
          "text": [
            "[]\n"
          ]
        }
      ]
    },
    {
      "cell_type": "markdown",
      "source": [
        "## `copy()`"
      ],
      "metadata": {
        "id": "C6668ATZ06tI"
      }
    },
    {
      "cell_type": "code",
      "source": [
        "fruits = ['banana', 'orange', 'mango', 'lemon', 'kiwi', 'lime',['blueberry', 'watermelon']]\n",
        "fruits_copy = fruits.copy()\n",
        "\n",
        "print(fruits_copy)"
      ],
      "metadata": {
        "colab": {
          "base_uri": "https://localhost:8080/"
        },
        "id": "xVqRrIcn0_gE",
        "outputId": "73c511e8-bacc-457b-bf0e-574d070b0c0f"
      },
      "execution_count": null,
      "outputs": [
        {
          "output_type": "stream",
          "name": "stdout",
          "text": [
            "['banana', 'orange', 'mango', 'lemon', 'kiwi', 'lime', ['blueberry', 'watermelon']]\n"
          ]
        }
      ]
    },
    {
      "cell_type": "markdown",
      "source": [
        "## Juntando listas"
      ],
      "metadata": {
        "id": "OTxQ0WW81Pi-"
      }
    },
    {
      "cell_type": "markdown",
      "source": [
        "### `+`\n",
        "\n",
        "\n",
        "\n",
        "```python\n",
        "#sintaxis\n",
        "        list3 = list1 + list2\n",
        "```\n",
        "\n"
      ],
      "metadata": {
        "id": "PHHgDOG11Sgr"
      }
    },
    {
      "cell_type": "code",
      "source": [
        "positive_numbers = [1, 2, 3, 4, 5]\n",
        "zero = [0]\n",
        "negative_numbers = [-5,-4,-3,-2,-1]\n",
        "integers = negative_numbers + zero + positive_numbers\n",
        "print(integers) # [-5, -4, -3, -2, -1, 0, 1, 2, 3, 4, 5]"
      ],
      "metadata": {
        "colab": {
          "base_uri": "https://localhost:8080/"
        },
        "id": "2kn2kDQh1R96",
        "outputId": "ea0202b9-f253-4b33-f840-482b92781dea"
      },
      "execution_count": null,
      "outputs": [
        {
          "output_type": "stream",
          "name": "stdout",
          "text": [
            "[-5, -4, -3, -2, -1, 0, 1, 2, 3, 4, 5]\n"
          ]
        }
      ]
    },
    {
      "cell_type": "markdown",
      "source": [
        "### `extend()`\n",
        "\n",
        "\n",
        "\n",
        "```python\n",
        "# sintaxis\n",
        "list1 = ['item1', 'item2']\n",
        "list2 = ['item3', 'item4', 'item5']\n",
        "list1.extend(list2)\n",
        "```\n",
        "la nueva lista se agrega al final.\n"
      ],
      "metadata": {
        "id": "XsZYEZp51lDV"
      }
    },
    {
      "cell_type": "code",
      "source": [
        "negative_numbers = [-5,-4,-3,-2,-1]\n",
        "positive_numbers = [1, 2, 3,4,5]\n",
        "zero = [0]\n",
        "\n",
        "negative_numbers.extend(zero)\n",
        "negative_numbers.extend(positive_numbers)\n",
        "print('Integers:', negative_numbers)"
      ],
      "metadata": {
        "colab": {
          "base_uri": "https://localhost:8080/"
        },
        "id": "I6JC4SS51kzL",
        "outputId": "38082352-c5af-4c4b-8320-3684ece2e3d9"
      },
      "execution_count": null,
      "outputs": [
        {
          "output_type": "stream",
          "name": "stdout",
          "text": [
            "Integers: [-5, -4, -3, -2, -1, 0, 1, 2, 3, 4, 5]\n"
          ]
        }
      ]
    },
    {
      "cell_type": "markdown",
      "source": [
        "## Contando items."
      ],
      "metadata": {
        "id": "M2J_gQbs2dwZ"
      }
    },
    {
      "cell_type": "markdown",
      "source": [
        "### `count()`\n",
        "\n",
        "\n",
        "\n",
        "```python\n",
        "#sintaxis\n",
        "lst = ['item1', 'item2']\n",
        "lst.count(item)\n",
        "```\n",
        "Cuenta el numero de veces que aparece un item\n"
      ],
      "metadata": {
        "id": "bT59wLOm2hOF"
      }
    },
    {
      "cell_type": "code",
      "source": [
        "fruits = ['banana', 'orange', 'mango', 'lemon']\n",
        "print(fruits.count('orange'))   # 1\n",
        "ages = [22, 19, 24, 25, 26, 24, 25, 24]\n",
        "print(ages.count(24))           # 3\n",
        "\n",
        "fruits2 = ['banana', ['orange', 'mango'], 'lemon']\n",
        "print(fruits2.count(['orange', 'mango']))  # 1\n",
        "\n",
        "fruits3 = ['banana', {'fruta1':'el mango es un mango', 'fruta2':'lemon'},'orange']\n",
        "print(fruits3[1]['fruta1'].count('mango')) #2"
      ],
      "metadata": {
        "colab": {
          "base_uri": "https://localhost:8080/"
        },
        "id": "JlT9w51H2vIq",
        "outputId": "d0a9b8a7-bd6f-4768-e92a-f37a03eb018f"
      },
      "execution_count": null,
      "outputs": [
        {
          "output_type": "stream",
          "name": "stdout",
          "text": [
            "1\n",
            "3\n",
            "1\n",
            "2\n"
          ]
        }
      ]
    },
    {
      "cell_type": "markdown",
      "source": [
        "## `index()`\n",
        "\n",
        "\n",
        "\n",
        "```python\n",
        "#sintaxis:\n",
        "          list.index(item)\n",
        "```\n",
        "\n",
        "Retorna el indice de la primera aparicion del item"
      ],
      "metadata": {
        "id": "ls3Lz6IQ47qE"
      }
    },
    {
      "cell_type": "code",
      "source": [
        "fruits = ['banana', 'orange', 'mango', 'lemon']\n",
        "print(fruits.index('orange'))   # 1\n",
        "ages = [22, 19, 24, 25, 26, 24, 25, 24]\n",
        "print(ages.index(24))           # 2\n",
        "\n",
        "fruits3 = ['banana', {'fruta1':'el mango es un mango', 'fruta2':'lemon'},'orange']\n",
        "print(fruits3[1]['fruta1'].index('mango')) # 0:'e' , 1:'l' , 2:' ', 3:'mango'"
      ],
      "metadata": {
        "colab": {
          "base_uri": "https://localhost:8080/"
        },
        "id": "pVN1Cxsk5K5R",
        "outputId": "01b8d967-dcfc-41ec-c146-d422b7df6762"
      },
      "execution_count": null,
      "outputs": [
        {
          "output_type": "stream",
          "name": "stdout",
          "text": [
            "1\n",
            "2\n",
            "3\n"
          ]
        }
      ]
    },
    {
      "cell_type": "markdown",
      "source": [
        "## `reverse()`\n",
        "Revierte el orden de la lista.\n",
        "\n",
        "\n",
        "```python\n",
        "#sintaxis:\n",
        "          list.reverse()\n",
        "```\n",
        "\n"
      ],
      "metadata": {
        "id": "BHSFD8Xw6BqR"
      }
    },
    {
      "cell_type": "code",
      "source": [
        "fruits = ['banana', 'orange', 'mango', 'lemon']\n",
        "print('Lista original:', fruits)\n",
        "fruits.reverse()\n",
        "print('Lista invertida:', fruits)"
      ],
      "metadata": {
        "colab": {
          "base_uri": "https://localhost:8080/"
        },
        "id": "73icXL836BTN",
        "outputId": "23bf84d4-8726-4ab0-94ea-eff5a5c8a0e7"
      },
      "execution_count": null,
      "outputs": [
        {
          "output_type": "stream",
          "name": "stdout",
          "text": [
            "Lista original: ['banana', 'orange', 'mango', 'lemon']\n",
            "Lista invertida: ['lemon', 'mango', 'orange', 'banana']\n"
          ]
        }
      ]
    },
    {
      "cell_type": "markdown",
      "source": [
        "## `sort()`\n",
        "\n",
        "\n",
        "```python\n",
        "# syntax\n",
        "lst = ['item1', 'item2']\n",
        "lst.sort()                # ascending\n",
        "lst.sort(reverse=True)    # descending\n",
        "```\n",
        "`sort()` solo funciona si la lista tiene elemento del mismo tipo\n"
      ],
      "metadata": {
        "id": "tmNa60af6l07"
      }
    },
    {
      "cell_type": "code",
      "source": [
        "fruits = ['banana', 'orange', 'mango', 'lemon']\n",
        "fruits.sort()\n",
        "print(fruits)\n",
        "\n",
        "fruits.sort(reverse=True)\n",
        "print(fruits)\n",
        "\n",
        "ages = [22, 19, 24, 25, 26, 24, 25, 24]\n",
        "ages.sort()\n",
        "print(ages) #  [19, 22, 24, 24, 24, 25, 25, 26]\n",
        "\n",
        "ages.sort(reverse=True)\n",
        "print(ages)\n",
        "\n",
        "print(\"\\n----------------------\\n\")\n",
        "fruits2 = ['banana', ['orange', 'mango'], 'lemon']\n",
        "fruits2[1].sort()\n",
        "print(fruits2)"
      ],
      "metadata": {
        "colab": {
          "base_uri": "https://localhost:8080/"
        },
        "id": "gJMcurmY6ul6",
        "outputId": "12c2c01a-eba6-44a8-db6b-8f6c0a518fe0"
      },
      "execution_count": null,
      "outputs": [
        {
          "output_type": "stream",
          "name": "stdout",
          "text": [
            "['banana', 'lemon', 'mango', 'orange']\n",
            "['orange', 'mango', 'lemon', 'banana']\n",
            "[19, 22, 24, 24, 24, 25, 25, 26]\n",
            "[26, 25, 25, 24, 24, 24, 22, 19]\n",
            "\n",
            "----------------------\n",
            "\n",
            "['banana', ['mango', 'orange'], 'lemon']\n"
          ]
        }
      ]
    },
    {
      "cell_type": "markdown",
      "source": [
        "### `sorted`\n",
        "\n",
        "Ordena la lista sin modificar la original\n",
        "\n"
      ],
      "metadata": {
        "id": "D5JJnNCQ7d95"
      }
    },
    {
      "cell_type": "code",
      "source": [
        "fruits = ['mango','banana', 'orange' , 'lemon']\n",
        "print(sorted(fruits))   # ['banana', 'lemon', 'mango', 'orange']\n",
        "print(fruits)\n",
        "\n",
        "print('\\n----------------\\n')\n",
        "# Reverse order\n",
        "fruits = ['banana', 'orange', 'mango', 'lemon']\n",
        "fruits = sorted(fruits,reverse=True)\n",
        "print(fruits)     # ['orange', 'mango', 'lemon', 'banana']\n"
      ],
      "metadata": {
        "colab": {
          "base_uri": "https://localhost:8080/"
        },
        "id": "8bA7kOwH7xQc",
        "outputId": "68f6fbff-3654-4a59-958f-5a93560302ea"
      },
      "execution_count": null,
      "outputs": [
        {
          "output_type": "stream",
          "name": "stdout",
          "text": [
            "['banana', 'lemon', 'mango', 'orange']\n",
            "['mango', 'banana', 'orange', 'lemon']\n",
            "\n",
            "----------------\n",
            "\n",
            "['orange', 'mango', 'lemon', 'banana']\n"
          ]
        }
      ]
    },
    {
      "cell_type": "markdown",
      "source": [
        "## `len()`\n",
        "Regresa el tamaño de un objeto iterable.\n"
      ],
      "metadata": {
        "id": "JvIZP8_te7YL"
      }
    },
    {
      "cell_type": "code",
      "source": [
        "fruits = ['banana', 'orange', 'mango', 'lemon']\n",
        "print(len(fruits))"
      ],
      "metadata": {
        "colab": {
          "base_uri": "https://localhost:8080/"
        },
        "id": "eqJpE_vpf8D5",
        "outputId": "dd2aebe2-74c8-4733-f345-44a74a61d1f1"
      },
      "execution_count": null,
      "outputs": [
        {
          "output_type": "stream",
          "name": "stdout",
          "text": [
            "4\n"
          ]
        }
      ]
    },
    {
      "cell_type": "code",
      "source": [
        "lista = ['a','b','c','a']\n",
        "a = [1 for x in lista[:] if x == 'a']\n",
        "print(a)"
      ],
      "metadata": {
        "colab": {
          "base_uri": "https://localhost:8080/"
        },
        "id": "CwyAcu8S-Dq8",
        "outputId": "6a94d86a-d95e-43a8-e473-99f10171ccd2"
      },
      "execution_count": null,
      "outputs": [
        {
          "output_type": "stream",
          "name": "stdout",
          "text": [
            "[1, 1]\n"
          ]
        }
      ]
    },
    {
      "cell_type": "markdown",
      "source": [
        "#Tuplas\n",
        "\n",
        "Conjunto de datos iterable y ordenado que una vez declarada no puede modificarse.\n",
        "\n",
        "Funciones y metodos aplicadas a las Tuplas: `len()`, `count()`, `index()`,`del`\n",
        "\n",
        "Se puede rebanar a las tuplas.\n",
        "\n",
        "- Ucupan menos memoria y son mas rapidas que las listas.\n",
        "- Las funciones que retornan multiples valores, retornan tuplas\n",
        "- Pueden usar como las keys en los diccionarios\n",
        "- Pueden usarse en bases de datos estructuradas de datos fijos."
      ],
      "metadata": {
        "id": "W7OFs7HH1Itb"
      }
    },
    {
      "cell_type": "code",
      "source": [
        "# syntax\n",
        "empty_tuple = ()\n",
        "# or using the tuple constructor\n",
        "empty_tuple = tuple()"
      ],
      "metadata": {
        "id": "EpMBbktN1Kkx"
      },
      "execution_count": null,
      "outputs": []
    },
    {
      "cell_type": "markdown",
      "source": [
        "### Tupla con un solo item\n"
      ],
      "metadata": {
        "id": "AptXZdAx3FuD"
      }
    },
    {
      "cell_type": "code",
      "source": [
        "tupl = ('item')\n",
        "print(type(tupl)) # Las tuplas de un elemento sin ',' al final son strings\n",
        "\n",
        "tupl = ('item',) #Para definir una tupla de un elemento agregar ',' al final\n",
        "print(type(tupl))"
      ],
      "metadata": {
        "colab": {
          "base_uri": "https://localhost:8080/"
        },
        "id": "SNZrNrgd3Iqc",
        "outputId": "a4cd2efd-599d-4087-9f77-bc3aa33cf2c0"
      },
      "execution_count": null,
      "outputs": [
        {
          "output_type": "stream",
          "name": "stdout",
          "text": [
            "<class 'str'>\n",
            "<class 'tuple'>\n"
          ]
        }
      ]
    },
    {
      "cell_type": "code",
      "source": [
        "# Syntax\n",
        "tpl = ('item1', 'item2', 'item3')\n",
        "first_item = tpl[0:2]\n",
        "second_item = tpl[1]\n",
        "\n",
        "print(first_item)\n",
        "print(second_item)"
      ],
      "metadata": {
        "colab": {
          "base_uri": "https://localhost:8080/"
        },
        "id": "1JZ2MOjT27-V",
        "outputId": "9e82e38b-da8f-4e8e-b989-054c46e305be"
      },
      "execution_count": null,
      "outputs": [
        {
          "output_type": "stream",
          "name": "stdout",
          "text": [
            "('item1', 'item2')\n",
            "item2\n"
          ]
        }
      ]
    },
    {
      "cell_type": "code",
      "source": [
        "# syntax\n",
        "tpl = ('item1', 'item2', 'item3')\n",
        "len(tpl)"
      ],
      "metadata": {
        "colab": {
          "base_uri": "https://localhost:8080/"
        },
        "id": "5WQUXf7f2ObM",
        "outputId": "ec9bebfb-ea69-43a6-fa6f-730f2388291d"
      },
      "execution_count": null,
      "outputs": [
        {
          "output_type": "execute_result",
          "data": {
            "text/plain": [
              "3"
            ]
          },
          "metadata": {},
          "execution_count": 2
        }
      ]
    },
    {
      "cell_type": "markdown",
      "source": [
        "## Tupla --- > List"
      ],
      "metadata": {
        "id": "u-jAJkN137oP"
      }
    },
    {
      "cell_type": "code",
      "source": [
        "tpl = ('item1', 'item2', 'item3')\n",
        "lst = list(tpl)\n",
        "print(lst)\n",
        "tupl = tuple(lst)\n",
        "print(tupl)"
      ],
      "metadata": {
        "colab": {
          "base_uri": "https://localhost:8080/"
        },
        "id": "FvoDUJpl4AgW",
        "outputId": "ab33aa0f-f515-4119-a329-e81ff646e93b"
      },
      "execution_count": null,
      "outputs": [
        {
          "output_type": "stream",
          "name": "stdout",
          "text": [
            "['item1', 'item2', 'item3']\n",
            "('item1', 'item2', 'item3')\n"
          ]
        }
      ]
    },
    {
      "cell_type": "markdown",
      "source": [
        "## Verificar existencia de un item"
      ],
      "metadata": {
        "id": "0UzMj1xG4SSO"
      }
    },
    {
      "cell_type": "code",
      "source": [
        "tpl = (1,2,3,4,5)\n",
        "print(1 in tpl)"
      ],
      "metadata": {
        "colab": {
          "base_uri": "https://localhost:8080/"
        },
        "id": "49gYF_4k4Vtl",
        "outputId": "130e5137-028f-458b-d8c4-cb1672198846"
      },
      "execution_count": null,
      "outputs": [
        {
          "output_type": "stream",
          "name": "stdout",
          "text": [
            "True\n"
          ]
        }
      ]
    },
    {
      "cell_type": "markdown",
      "source": [
        "## Joinig"
      ],
      "metadata": {
        "id": "Yscd9aa-4lm8"
      }
    },
    {
      "cell_type": "code",
      "source": [
        "tupl = ('item1', 'item2', 'item3')\n",
        "tpl2 = ('item4', 'item5', 'item6')\n",
        "tpl3 = tupl + tpl2\n",
        "print(tpl3)\n"
      ],
      "metadata": {
        "colab": {
          "base_uri": "https://localhost:8080/"
        },
        "id": "r_VJCddn4jX2",
        "outputId": "39c2b4ea-af6d-4804-a62f-8dc6c36fb858"
      },
      "execution_count": null,
      "outputs": [
        {
          "output_type": "stream",
          "name": "stdout",
          "text": [
            "('item1', 'item2', 'item3', 'item4', 'item5', 'item6')\n"
          ]
        }
      ]
    },
    {
      "cell_type": "markdown",
      "source": [
        "## del"
      ],
      "metadata": {
        "id": "5uCsSR7o4_2M"
      }
    },
    {
      "cell_type": "code",
      "source": [
        "tpl = ('item1', 'item2', 'item3')\n",
        "del tpl"
      ],
      "metadata": {
        "id": "ivcZHH0q5Btg"
      },
      "execution_count": null,
      "outputs": []
    },
    {
      "cell_type": "markdown",
      "source": [
        "#Set\n",
        "Un set en Python es una colección desordenada, iterable, no indexada y de elementos únicos. Puedes eliminar elementos pero no modificar los existentes.\n",
        "\n",
        "se pueden aplicar las funciones iterables como `len()`\n",
        "\n"
      ],
      "metadata": {
        "id": "rks639BI51st"
      }
    },
    {
      "cell_type": "code",
      "source": [
        "#sintaxis\n",
        "set_variable = set()\n",
        "set_variable = {'item1', 'item2', 'item3'}"
      ],
      "metadata": {
        "id": "MmobiXTJ8HB2"
      },
      "execution_count": null,
      "outputs": []
    },
    {
      "cell_type": "markdown",
      "source": [
        "##Verificar un item"
      ],
      "metadata": {
        "id": "LpViNWUZ8eLE"
      }
    },
    {
      "cell_type": "code",
      "source": [
        "st = {'item1', 'item2', 'item3'}\n",
        "print('item1' in st)"
      ],
      "metadata": {
        "colab": {
          "base_uri": "https://localhost:8080/"
        },
        "id": "HGp-1v3E8Mze",
        "outputId": "1d8ebf0e-a3d4-4af6-9666-389d21d6ca9d"
      },
      "execution_count": null,
      "outputs": [
        {
          "output_type": "stream",
          "name": "stdout",
          "text": [
            "True\n"
          ]
        }
      ]
    },
    {
      "cell_type": "markdown",
      "source": [
        "## `add()`\n",
        "Los elementos de set deben ser `hasheables`, es decir, inmutables.\n",
        "por lo tanto solo puedes agregar items que cumplan esta caracteristicas como lo son las tuplas y los items unicos."
      ],
      "metadata": {
        "id": "wZbctbnu8nnX"
      }
    },
    {
      "cell_type": "code",
      "source": [
        "st = {'item1', 'item2', 'item3'}\n",
        "st.add(('item4','item5'))\n",
        "print(st)\n",
        "\n",
        "st.add('item6')\n",
        "print(st)\n",
        "\n",
        "#add() no retorna nada\n",
        "\n",
        "print(st.add('item8')) # no retonarna pero si modifica el set\n",
        "print(st)"
      ],
      "metadata": {
        "colab": {
          "base_uri": "https://localhost:8080/"
        },
        "id": "k5qNl3lM8jn5",
        "outputId": "87c97b4c-f0dd-4a9b-ff23-69bc130a4cf6"
      },
      "execution_count": null,
      "outputs": [
        {
          "output_type": "stream",
          "name": "stdout",
          "text": [
            "{'item2', ('item4', 'item5'), 'item1', 'item3'}\n",
            "{'item1', ('item4', 'item5'), 'item6', 'item3', 'item2'}\n",
            "None\n",
            "{'item1', ('item4', 'item5'), 'item6', 'item8', 'item3', 'item2'}\n"
          ]
        }
      ]
    },
    {
      "cell_type": "markdown",
      "source": [
        "### `update`\n",
        "Agregar varis items al set, recibe una lista de los items a agregar"
      ],
      "metadata": {
        "id": "l4ShZ_Gh_eQC"
      }
    },
    {
      "cell_type": "code",
      "source": [
        "st = {'item1', 'item2', 'item3'}\n",
        "st.update(['item4','item5'])\n",
        "print(st)\n",
        "\n",
        "st.update([(1,2),('item',)])\n",
        "print(st)"
      ],
      "metadata": {
        "colab": {
          "base_uri": "https://localhost:8080/"
        },
        "id": "3CUgu4yG_jX5",
        "outputId": "dbe92859-1ab3-4d1e-c5b6-c641b99a23cd"
      },
      "execution_count": null,
      "outputs": [
        {
          "output_type": "stream",
          "name": "stdout",
          "text": [
            "{'item4', 'item1', 'item5', 'item3', 'item2'}\n",
            "{'item4', 'item1', (1, 2), 'item5', 'item3', 'item2', ('item',)}\n"
          ]
        }
      ]
    },
    {
      "cell_type": "markdown",
      "source": [
        "## Remover items\n"
      ],
      "metadata": {
        "id": "vzC9mM-iAsvD"
      }
    },
    {
      "cell_type": "markdown",
      "source": [
        "### `.remove()` y `discard()`"
      ],
      "metadata": {
        "id": "UAL5AOZKAypD"
      }
    },
    {
      "cell_type": "code",
      "source": [
        "st = {'item1', 'item2', 'item3'}\n",
        "st.remove('item1') #Remueve el item, si no esta, lanza error\n",
        "print(st)\n",
        "\n",
        "st.discard('item') #remueve el item, si no esta, no lanza nada\n",
        "print(st)"
      ],
      "metadata": {
        "colab": {
          "base_uri": "https://localhost:8080/"
        },
        "id": "56wJTBLlAxki",
        "outputId": "198a2d8e-9162-4cec-94ea-b4c4ad0dc408"
      },
      "execution_count": null,
      "outputs": [
        {
          "output_type": "stream",
          "name": "stdout",
          "text": [
            "{'item2', 'item3'}\n",
            "{'item2', 'item3'}\n"
          ]
        }
      ]
    },
    {
      "cell_type": "markdown",
      "source": [
        "## `pop()`\n",
        "Remueve un item al azar y lo retorna"
      ],
      "metadata": {
        "id": "FjQ1TlC_Bnv4"
      }
    },
    {
      "cell_type": "code",
      "source": [
        "st = {'banana', 'orange', 'mango', 'lemon'}\n",
        "print(st.pop())"
      ],
      "metadata": {
        "colab": {
          "base_uri": "https://localhost:8080/"
        },
        "id": "Dj3rGMNHBvqE",
        "outputId": "1b9cd548-84d7-4a2a-f02f-068cf8548fad"
      },
      "execution_count": null,
      "outputs": [
        {
          "output_type": "stream",
          "name": "stdout",
          "text": [
            "mango\n"
          ]
        }
      ]
    },
    {
      "cell_type": "markdown",
      "source": [
        "## operaciones de conjuntos"
      ],
      "metadata": {
        "id": "CFwG4D4KCYaR"
      }
    },
    {
      "cell_type": "code",
      "source": [
        "a = {1, 2, 3}\n",
        "b = {3, 4, 5}\n",
        "\n",
        "print(a | b)   # Unión: {1, 2, 3, 4, 5}\n",
        "print(a & b)   # Intersección: {3}\n",
        "print(a - b)   # Diferencia: {1, 2}\n",
        "print(a ^ b)   # Diferencia simétrica: {1, 2, 4, 5}"
      ],
      "metadata": {
        "colab": {
          "base_uri": "https://localhost:8080/"
        },
        "id": "ptSLwt4cCafU",
        "outputId": "fb442e9a-8b98-4fc6-89c9-9f7c230e6753"
      },
      "execution_count": null,
      "outputs": [
        {
          "output_type": "stream",
          "name": "stdout",
          "text": [
            "{1, 2, 3, 4, 5}\n",
            "{3}\n",
            "{1, 2}\n",
            "{1, 2, 4, 5}\n"
          ]
        }
      ]
    },
    {
      "cell_type": "code",
      "source": [
        "a = {1,2,3}\n",
        "b = {3,4,5,6}\n",
        "print(a.union(b))\n",
        "print(a.intersection(b))\n",
        "print(a.difference(b))\n",
        "print(a.symmetric_difference(b))\n",
        "\n",
        "a.update(b)\n",
        "print(a)"
      ],
      "metadata": {
        "colab": {
          "base_uri": "https://localhost:8080/"
        },
        "id": "UQqfv6-xCpmG",
        "outputId": "c04556a9-7212-42f0-a5ce-36c06f6fbd7a"
      },
      "execution_count": null,
      "outputs": [
        {
          "output_type": "stream",
          "name": "stdout",
          "text": [
            "{1, 2, 3, 4, 5, 6}\n",
            "{3}\n",
            "{1, 2}\n",
            "{1, 2, 4, 5, 6}\n",
            "{1, 2, 3, 4, 5, 6}\n"
          ]
        }
      ]
    },
    {
      "cell_type": "markdown",
      "source": [
        "## superset y subset"
      ],
      "metadata": {
        "id": "LpSE9iCnEKhn"
      }
    },
    {
      "cell_type": "code",
      "source": [
        "# syntax\n",
        "st1 = {'item1', 'item2', 'item3', 'item4'}\n",
        "st2 = {'item2', 'item3'}\n",
        "print(st2.issubset(st1)) # True\n",
        "print(st1.issuperset(st2) )# True"
      ],
      "metadata": {
        "colab": {
          "base_uri": "https://localhost:8080/"
        },
        "id": "qoi3G6xbEJsk",
        "outputId": "3930098b-b90b-4ea7-c347-01a5e7c374ad"
      },
      "execution_count": null,
      "outputs": [
        {
          "output_type": "stream",
          "name": "stdout",
          "text": [
            "True\n",
            "True\n"
          ]
        }
      ]
    },
    {
      "cell_type": "markdown",
      "source": [
        "##`isdisjoint()`\n",
        "\n",
        "Si dos sets no tienen elementos en comun."
      ],
      "metadata": {
        "id": "PbtWAPznE52v"
      }
    },
    {
      "cell_type": "code",
      "source": [
        "even_numbers = {0, 2, 4 ,6, 8}\n",
        "odd_numbers = {1, 3, 5, 7, 9}\n",
        "even_numbers.isdisjoint(odd_numbers) # True, because no common item"
      ],
      "metadata": {
        "colab": {
          "base_uri": "https://localhost:8080/"
        },
        "id": "IpYQ7Xr9E5Df",
        "outputId": "1a43e9fe-b6ef-476c-ecd3-8136a4ff5ebc"
      },
      "execution_count": null,
      "outputs": [
        {
          "output_type": "execute_result",
          "data": {
            "text/plain": [
              "True"
            ]
          },
          "metadata": {},
          "execution_count": 50
        }
      ]
    },
    {
      "cell_type": "markdown",
      "source": [
        "#Diccionario\n",
        "\n",
        "Un diccionario (`dict`) es una estructura de datos que almacena pares clave-valor.\n",
        "Es desordenado, mutable y rápido para búsquedas, inserciones y eliminaciones por clave."
      ],
      "metadata": {
        "id": "-nO_Qj_XL3WG"
      }
    },
    {
      "cell_type": "code",
      "source": [
        "# syntax\n",
        "empty_dict = {}\n",
        "# Dictionary with data values\n",
        "dct = {'key1':'value1', 'key2':'value2', 'key3':'value3', 'key4':'value4'}"
      ],
      "metadata": {
        "id": "AAWoslSUL46a"
      },
      "execution_count": null,
      "outputs": []
    },
    {
      "cell_type": "code",
      "source": [
        "#ejemplo:\n",
        "\n",
        "person = {\n",
        "    'first_name':'Ernesto',\n",
        "    'last_name':'Franco',\n",
        "    'age':250,\n",
        "    'country':'Finland',\n",
        "    'is_marred':True,\n",
        "    'skills':['JavaScript', 'React', 'Node', 'MongoDB', 'Python'],\n",
        "    'address':{\n",
        "        'street':'Space street',\n",
        "        'zipcode':'02210'\n",
        "    }\n",
        "    }"
      ],
      "metadata": {
        "id": "ctDHhcTsNEGs"
      },
      "execution_count": null,
      "outputs": []
    },
    {
      "cell_type": "markdown",
      "source": [
        "## `keys()`\n",
        "Retornas las keys del diccionario"
      ],
      "metadata": {
        "id": "Sm005WEXlK6q"
      }
    },
    {
      "cell_type": "code",
      "source": [
        "person.keys()"
      ],
      "metadata": {
        "colab": {
          "base_uri": "https://localhost:8080/"
        },
        "id": "Z5KOz6qKlQXT",
        "outputId": "13174e73-8bba-4874-a12f-8a8117b3b641"
      },
      "execution_count": null,
      "outputs": [
        {
          "output_type": "execute_result",
          "data": {
            "text/plain": [
              "dict_keys(['first_name', 'last_name', 'age', 'country', 'is_marred', 'skills', 'address'])"
            ]
          },
          "metadata": {},
          "execution_count": 82
        }
      ]
    },
    {
      "cell_type": "markdown",
      "source": [
        "## `values()`\n",
        "retorna los valores del diccionario"
      ],
      "metadata": {
        "id": "Ul0GmNf4lr6M"
      }
    },
    {
      "cell_type": "code",
      "source": [
        "person.values()"
      ],
      "metadata": {
        "colab": {
          "base_uri": "https://localhost:8080/"
        },
        "id": "m9q-AQaAlwL2",
        "outputId": "d10813db-82db-4a49-864e-22a79c9c14bb"
      },
      "execution_count": null,
      "outputs": [
        {
          "output_type": "execute_result",
          "data": {
            "text/plain": [
              "dict_values(['Ernesto', 'Franco', 250, 'Finland', True, ['JavaScript', 'React', 'Node', 'MongoDB', 'Python'], {'street': 'Space street', 'zipcode': '02210'}])"
            ]
          },
          "metadata": {},
          "execution_count": 83
        }
      ]
    },
    {
      "cell_type": "markdown",
      "source": [
        "## `len()`\n",
        "Devuelve el numero de keys"
      ],
      "metadata": {
        "id": "dMTvgPVQNO7u"
      }
    },
    {
      "cell_type": "code",
      "source": [
        "len(person)"
      ],
      "metadata": {
        "colab": {
          "base_uri": "https://localhost:8080/"
        },
        "id": "twljCBIANSzU",
        "outputId": "6846f9de-a18e-406c-a438-2dde72de8cd6"
      },
      "execution_count": null,
      "outputs": [
        {
          "output_type": "execute_result",
          "data": {
            "text/plain": [
              "7"
            ]
          },
          "metadata": {},
          "execution_count": 52
        }
      ]
    },
    {
      "cell_type": "markdown",
      "source": [
        "##Acceder a los values.\n",
        "\n",
        "```python\n",
        "#sintaxis:\n",
        "          dict['key1']\n",
        "          #imprime: value1, correspondiente a key1\n",
        "```"
      ],
      "metadata": {
        "id": "CYyJO2xYNZhn"
      }
    },
    {
      "cell_type": "code",
      "source": [
        "person['first_name']"
      ],
      "metadata": {
        "colab": {
          "base_uri": "https://localhost:8080/",
          "height": 35
        },
        "id": "J64efuk6NiVz",
        "outputId": "fe8d58d7-1647-440d-c03e-9c98a12e19de"
      },
      "execution_count": null,
      "outputs": [
        {
          "output_type": "execute_result",
          "data": {
            "text/plain": [
              "'Ernesto'"
            ],
            "application/vnd.google.colaboratory.intrinsic+json": {
              "type": "string"
            }
          },
          "metadata": {},
          "execution_count": 55
        }
      ]
    },
    {
      "cell_type": "code",
      "source": [
        "print(person['skills'][0]) #accede al value correspondiente, para despues acceder al value correspondiente al indice 0 de la lista."
      ],
      "metadata": {
        "colab": {
          "base_uri": "https://localhost:8080/"
        },
        "id": "8i1e2hmhN_Ot",
        "outputId": "3ce623e0-aa8c-4200-ccea-a787de7847c6"
      },
      "execution_count": null,
      "outputs": [
        {
          "output_type": "stream",
          "name": "stdout",
          "text": [
            "JavaScript\n"
          ]
        }
      ]
    },
    {
      "cell_type": "markdown",
      "source": [
        "## `get()`\n",
        "Acceder a una key que no existe retorna error. `get()` retorna none si no existe"
      ],
      "metadata": {
        "id": "qCqapp8hOaWd"
      }
    },
    {
      "cell_type": "code",
      "source": [
        "person = {\n",
        "    'first_name':'Ernesto',\n",
        "    'last_name':'Franco',\n",
        "    'age':250,\n",
        "    'country':'Finland',\n",
        "    'is_marred':True,\n",
        "    'skills':['JavaScript', 'React', 'Node', 'MongoDB', 'Python'],\n",
        "    'address':{\n",
        "        'street':'Space street',\n",
        "        'zipcode':'02210'\n",
        "    }\n",
        "    }\n",
        "print(person.get('first_name'))\n",
        "print(person.get('country'))    # Finland\n",
        "print(person.get('skills')) #['HTML','CSS','JavaScript', 'React', 'Node', 'MongoDB', 'Python']\n",
        "print(person.get('city'))   # None"
      ],
      "metadata": {
        "colab": {
          "base_uri": "https://localhost:8080/"
        },
        "id": "zEnPhX5yOliI",
        "outputId": "4a1bbea2-f6d1-48a2-cba8-fa1406a2ca93"
      },
      "execution_count": null,
      "outputs": [
        {
          "output_type": "stream",
          "name": "stdout",
          "text": [
            "Ernesto\n",
            "Finland\n",
            "['JavaScript', 'React', 'Node', 'MongoDB', 'Python']\n",
            "None\n"
          ]
        }
      ]
    },
    {
      "cell_type": "markdown",
      "source": [
        "## Agregar elementos\n",
        "\n"
      ],
      "metadata": {
        "id": "w-x4gq_gOxNi"
      }
    },
    {
      "cell_type": "code",
      "source": [
        "person['city'] = 'Oslo' #dict[new_key] = new_item\n",
        "person"
      ],
      "metadata": {
        "colab": {
          "base_uri": "https://localhost:8080/"
        },
        "id": "32qMEyxGO1AY",
        "outputId": "6eafe3b0-a36d-4b5f-a36f-3491d88ae7c4"
      },
      "execution_count": null,
      "outputs": [
        {
          "output_type": "execute_result",
          "data": {
            "text/plain": [
              "{'first_name': 'Ernesto',\n",
              " 'last_name': 'Franco',\n",
              " 'age': 250,\n",
              " 'country': 'Finland',\n",
              " 'is_marred': True,\n",
              " 'skills': ['JavaScript', 'React', 'Node', 'MongoDB', 'Python'],\n",
              " 'address': {'street': 'Space street', 'zipcode': '02210'},\n",
              " 'city': 'Oslo'}"
            ]
          },
          "metadata": {},
          "execution_count": 60
        }
      ]
    },
    {
      "cell_type": "markdown",
      "source": [
        "Debemos jugar con las funciones y metodos que ya hemos visto para agregar nuevos elementos al diccionario."
      ],
      "metadata": {
        "id": "R73sWAxjPHRJ"
      }
    },
    {
      "cell_type": "code",
      "source": [
        "person['skills'].append('C+') #person['skills'] : retonar un objeto de tipo list, se agrega el metodo .append('new_item') para agregar el nuevo valor\n",
        "person"
      ],
      "metadata": {
        "colab": {
          "base_uri": "https://localhost:8080/"
        },
        "id": "0ndNalEMPF3f",
        "outputId": "a1b292de-bc84-481b-ad94-6711d9282735"
      },
      "execution_count": null,
      "outputs": [
        {
          "output_type": "execute_result",
          "data": {
            "text/plain": [
              "{'first_name': 'Ernesto',\n",
              " 'last_name': 'Franco',\n",
              " 'age': 250,\n",
              " 'country': 'Finland',\n",
              " 'is_marred': True,\n",
              " 'skills': ['JavaScript', 'React', 'Node', 'MongoDB', 'Python', 'C+'],\n",
              " 'address': {'street': 'Space street', 'zipcode': '02210'},\n",
              " 'city': 'Oslo'}"
            ]
          },
          "metadata": {},
          "execution_count": 62
        }
      ]
    },
    {
      "cell_type": "markdown",
      "source": [
        "## Modificaciones"
      ],
      "metadata": {
        "id": "G9WVI4C6iGje"
      }
    },
    {
      "cell_type": "code",
      "source": [
        "person['last_name'] = 'chavez'\n",
        "person"
      ],
      "metadata": {
        "colab": {
          "base_uri": "https://localhost:8080/"
        },
        "id": "2cXZWp20iJso",
        "outputId": "b1758d10-8667-483a-a93d-74c5fecd6f89"
      },
      "execution_count": null,
      "outputs": [
        {
          "output_type": "execute_result",
          "data": {
            "text/plain": [
              "{'first_name': 'Ernesto',\n",
              " 'last_name': 'chavez',\n",
              " 'age': 250,\n",
              " 'country': 'Finland',\n",
              " 'is_marred': True,\n",
              " 'skills': ['JavaScript', 'React', 'Node', 'MongoDB', 'Python', 'C+'],\n",
              " 'address': {'street': 'Space street', 'zipcode': '02210'},\n",
              " 'city': 'Oslo'}"
            ]
          },
          "metadata": {},
          "execution_count": 63
        }
      ]
    },
    {
      "cell_type": "markdown",
      "source": [
        "### Checar llaves"
      ],
      "metadata": {
        "id": "TsxwC7vZiae5"
      }
    },
    {
      "cell_type": "code",
      "source": [
        "person = {'first_name': 'Ernesto',\n",
        " 'last_name': 'chavez',\n",
        " 'age': 250,\n",
        " 'country': 'Finland',\n",
        " 'is_marred': True,\n",
        " 'skills': ['JavaScript', 'React', 'Node', 'MongoDB', 'Python', 'C+'],\n",
        " 'address': {'street': 'Space street', 'zipcode': '02210'},\n",
        " 'city': 'Oslo'}\n",
        "\n",
        "\n",
        "print('last_name' in person)"
      ],
      "metadata": {
        "colab": {
          "base_uri": "https://localhost:8080/"
        },
        "id": "7zKksmWAiZOk",
        "outputId": "0ea0d438-7559-49c5-9d09-2f0df94af81c"
      },
      "execution_count": null,
      "outputs": [
        {
          "output_type": "stream",
          "name": "stdout",
          "text": [
            "True\n"
          ]
        }
      ]
    },
    {
      "cell_type": "markdown",
      "source": [
        "## Removiendo items"
      ],
      "metadata": {
        "id": "vtXDQVpUivsW"
      }
    },
    {
      "cell_type": "markdown",
      "source": [
        "- `pop(key)`: remueve el iten con una key especifica\n",
        "- `popitem()`: remueve el ultimo item\n",
        "- `del`: remueve el diccionario o el item con una key especifica"
      ],
      "metadata": {
        "id": "KCR78VMXiyK6"
      }
    },
    {
      "cell_type": "code",
      "source": [
        "# syntax\n",
        "dct = {'key1':'value1', 'key2':'value2', 'key3':'value3', 'key4':'value4'}\n",
        "dct.pop('key1') # removes key1 item\n",
        "print(dct)\n",
        "\n",
        "dct = {'key1':'value1', 'key2':'value2', 'key3':'value3', 'key4':'value4'}\n",
        "dct.popitem() # removes the last item\n",
        "print(dct)\n",
        "\n",
        "\n",
        "del dct['key2'] # removes key2 item\n",
        "print(dct)"
      ],
      "metadata": {
        "colab": {
          "base_uri": "https://localhost:8080/"
        },
        "id": "5bEi7Stlix31",
        "outputId": "2eedf474-79d8-4ade-ad34-54b844bea359"
      },
      "execution_count": null,
      "outputs": [
        {
          "output_type": "stream",
          "name": "stdout",
          "text": [
            "{'key2': 'value2', 'key3': 'value3', 'key4': 'value4'}\n",
            "{'key1': 'value1', 'key2': 'value2', 'key3': 'value3'}\n",
            "{'key1': 'value1', 'key3': 'value3'}\n"
          ]
        }
      ]
    },
    {
      "cell_type": "markdown",
      "source": [
        "## Diccionario a lista de items"
      ],
      "metadata": {
        "id": "Au84LtS-jydC"
      }
    },
    {
      "cell_type": "markdown",
      "source": [
        "### `items()`\n",
        "\n",
        "Este metodo vuelve al diccionario en una lista de tuplas"
      ],
      "metadata": {
        "id": "3Vy0oRWRj3Ui"
      }
    },
    {
      "cell_type": "code",
      "source": [
        "# syntax\n",
        "dct = {'key1':'value1', 'key2':'value2', 'key3':'value3', 'key4':'value4'}\n",
        "print(dct.items()) # dict_items([('key1', 'value1'), ('key2', 'value2'), ('key3', 'value3'), ('key4', 'value4')])"
      ],
      "metadata": {
        "colab": {
          "base_uri": "https://localhost:8080/"
        },
        "id": "OetuJqRRisJ1",
        "outputId": "e5c832f9-c7d9-481a-8a5f-01d250f60d7b"
      },
      "execution_count": null,
      "outputs": [
        {
          "output_type": "stream",
          "name": "stdout",
          "text": [
            "dict_items([('key1', 'value1'), ('key2', 'value2'), ('key3', 'value3'), ('key4', 'value4')])\n"
          ]
        }
      ]
    },
    {
      "cell_type": "code",
      "source": [
        "person = {'first_name': 'Ernesto',\n",
        " 'last_name': 'chavez',\n",
        " 'age': 250,\n",
        " 'country': 'Finland',\n",
        " 'is_marred': True,\n",
        " 'skills': ['JavaScript', 'React', 'Node', 'MongoDB', 'Python', 'C+'],\n",
        " 'address': {'street': 'Space street', 'zipcode': '02210'},\n",
        " 'city': 'Oslo'}\n",
        "\n",
        "lst = person.items()\n",
        "lst"
      ],
      "metadata": {
        "colab": {
          "base_uri": "https://localhost:8080/"
        },
        "id": "qI1XrC_rkESX",
        "outputId": "8da51277-e9a4-4912-cfe6-205906a62ab3"
      },
      "execution_count": null,
      "outputs": [
        {
          "output_type": "execute_result",
          "data": {
            "text/plain": [
              "dict_items([('first_name', 'Ernesto'), ('last_name', 'chavez'), ('age', 250), ('country', 'Finland'), ('is_marred', True), ('skills', ['JavaScript', 'React', 'Node', 'MongoDB', 'Python', 'C+']), ('address', {'street': 'Space street', 'zipcode': '02210'}), ('city', 'Oslo')])"
            ]
          },
          "metadata": {},
          "execution_count": 72
        }
      ]
    },
    {
      "cell_type": "markdown",
      "source": [
        "## `clear()`, `del`, `copy()`"
      ],
      "metadata": {
        "id": "CA3PmZLdmFFE"
      }
    },
    {
      "cell_type": "code",
      "source": [
        "# syntax\n",
        "dct = {'key1':'value1', 'key2':'value2', 'key3':'value3', 'key4':'value4'}\n",
        "print(dct.clear()) # None"
      ],
      "metadata": {
        "colab": {
          "base_uri": "https://localhost:8080/"
        },
        "id": "rpxy8gOCmJl0",
        "outputId": "a0466ac9-3963-419c-86c5-48928056fd51"
      },
      "execution_count": null,
      "outputs": [
        {
          "output_type": "stream",
          "name": "stdout",
          "text": [
            "None\n"
          ]
        }
      ]
    },
    {
      "cell_type": "code",
      "source": [
        "# syntax\n",
        "dct = {'key1':'value1', 'key2':'value2', 'key3':'value3', 'key4':'value4'}\n",
        "del dct"
      ],
      "metadata": {
        "id": "vpBUQvpumOYO"
      },
      "execution_count": null,
      "outputs": []
    },
    {
      "cell_type": "code",
      "source": [
        "# syntax\n",
        "dct = {'key1':'value1', 'key2':'value2', 'key3':'value3', 'key4':'value4'}\n",
        "dct_copy = dct.copy() # {'key1':'value1', 'key2':'value2', 'key3':'value3', 'key4':'value4'}\n",
        "print(dct_copy)"
      ],
      "metadata": {
        "colab": {
          "base_uri": "https://localhost:8080/"
        },
        "id": "-3sjRLOLmS3q",
        "outputId": "b32d8b29-7c2f-4024-f702-83077f0bc5ae"
      },
      "execution_count": null,
      "outputs": [
        {
          "output_type": "stream",
          "name": "stdout",
          "text": [
            "{'key1': 'value1', 'key2': 'value2', 'key3': 'value3', 'key4': 'value4'}\n"
          ]
        }
      ]
    }
  ]
}