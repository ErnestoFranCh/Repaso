{
  "nbformat": 4,
  "nbformat_minor": 0,
  "metadata": {
    "colab": {
      "provenance": [],
      "toc_visible": true,
      "authorship_tag": "ABX9TyPOtz6f6hjKgrNH4eK3HKKW",
      "include_colab_link": true
    },
    "kernelspec": {
      "name": "python3",
      "display_name": "Python 3"
    },
    "language_info": {
      "name": "python"
    }
  },
  "cells": [
    {
      "cell_type": "markdown",
      "metadata": {
        "id": "view-in-github",
        "colab_type": "text"
      },
      "source": [
        "<a href=\"https://colab.research.google.com/github/ErnestoFranCh/Repaso/blob/main/filter_map_reduce.ipynb\" target=\"_parent\"><img src=\"https://colab.research.google.com/assets/colab-badge.svg\" alt=\"Open In Colab\"/></a>"
      ]
    },
    {
      "cell_type": "markdown",
      "source": [
        "# map\n",
        "\n",
        "Función incorporada de Python que permite aplicar una función a cada elemento de un iterable (como una `list`, `tuple`, etc.) de forma eficiente. Devuelve un objeto `map` (que puedes convertir a `list`, `tuple`, etc.).\n",
        "\n",
        "\n",
        "\n",
        "```python\n",
        "map(función, iterable)\n",
        "```\n",
        "\n"
      ],
      "metadata": {
        "id": "IgjE3eYaT0Dh"
      }
    },
    {
      "cell_type": "code",
      "execution_count": 6,
      "metadata": {
        "colab": {
          "base_uri": "https://localhost:8080/"
        },
        "id": "_bf3Kt6zTaLz",
        "outputId": "70aa9231-57cd-45fb-d2ec-a12c52fff00b"
      },
      "outputs": [
        {
          "output_type": "stream",
          "name": "stdout",
          "text": [
            "[1, 4, 1156]\n",
            "[1, 4, 1156]\n"
          ]
        }
      ],
      "source": [
        "def potencia(x):\n",
        "  return x**2\n",
        "\n",
        "tupla = (1,2,34)\n",
        "\n",
        "a = map(potencia,tupla)\n",
        "print(list(a))\n",
        "\n",
        "b = list(map(lambda x: x**2,tupla))\n",
        "print(b)"
      ]
    },
    {
      "cell_type": "markdown",
      "source": [
        "#filter\n",
        "\n",
        "Función incorporada de Python que sirve para filtrar elementos de un iterable según una condición (una función que devuelve True o False). Devuelve un objeto `map` (que puedes convertir a `list`, `tuple`, etc.).\n",
        "\n",
        "\n",
        "\n",
        "```python\n",
        "filter(función, iterable)\n",
        "```\n",
        "\n"
      ],
      "metadata": {
        "id": "SRK2RDDVWPBC"
      }
    },
    {
      "cell_type": "code",
      "source": [
        "def pares(l):\n",
        "  if l%2 == 0:  #Los resultados son True o False al ser condicional\n",
        "    return l\n",
        "\n",
        "lista = [2,3,57,8,10]\n",
        "\n",
        "a = filter(pares,lista)\n",
        "print(list(a))\n",
        "\n",
        "b = filter(lambda x: x%2 == 0,lista)\n",
        "print(list(b))"
      ],
      "metadata": {
        "colab": {
          "base_uri": "https://localhost:8080/"
        },
        "id": "gpCeq7iKWuHp",
        "outputId": "b907b862-cdb7-44a0-b9bc-58f209810989"
      },
      "execution_count": 8,
      "outputs": [
        {
          "output_type": "stream",
          "name": "stdout",
          "text": [
            "[2, 8, 10]\n",
            "[2, 8, 10]\n"
          ]
        }
      ]
    },
    {
      "cell_type": "markdown",
      "source": [
        "# reduce\n",
        "\n",
        "Aplica una función acumulativa a los elementos de un iterable, reduciéndolos a un solo valor.\n",
        "\n",
        "```python\n",
        "from functools import reduce\n",
        "\n",
        "reduce(función, iterable, valor_inicial_opcional)\n",
        "```\n",
        "\n"
      ],
      "metadata": {
        "id": "kmLrMBpaXa6G"
      }
    },
    {
      "cell_type": "code",
      "source": [
        "from functools import reduce\n",
        "\n",
        "numbers_str = ['1', '2', '3', '4', '5']  # iterable\n",
        "\n",
        "def add_two_nums(x, y):\n",
        "    return int(x) + int(y)\n",
        "\n",
        "total = reduce(add_two_nums, numbers_str)\n",
        "print(total)    # 15"
      ],
      "metadata": {
        "colab": {
          "base_uri": "https://localhost:8080/"
        },
        "id": "y6IVfY8WXaiS",
        "outputId": "ab8fd8ad-c7e7-4b4d-e8b9-9648bd7d7073"
      },
      "execution_count": 10,
      "outputs": [
        {
          "output_type": "stream",
          "name": "stdout",
          "text": [
            "15\n"
          ]
        }
      ]
    },
    {
      "cell_type": "code",
      "source": [
        "#valor inicial\n",
        "\n",
        "lis = [1,2,3,4,5]\n",
        "\n",
        "total = reduce(lambda a,b : a+b, lis,10) #empieza a sumar desde 10\n",
        "total"
      ],
      "metadata": {
        "colab": {
          "base_uri": "https://localhost:8080/"
        },
        "id": "2iuFLS0gZek4",
        "outputId": "15aed1af-8946-4e26-ffcb-8607459bd109"
      },
      "execution_count": 14,
      "outputs": [
        {
          "output_type": "execute_result",
          "data": {
            "text/plain": [
              "25"
            ]
          },
          "metadata": {},
          "execution_count": 14
        }
      ]
    },
    {
      "cell_type": "markdown",
      "source": [
        "# sorted\n",
        "\n",
        "Función incorporada en Python que se usa para ordenar elementos de cualquier iterable (como `list`, `tuple`, `dict`, `sets`, etc.) y devuelve una nueva lista ordenada, sin modificar el iterable original.\n",
        "\n",
        "\n",
        "\n",
        "```python\n",
        "sorted(iterable, key=None, reverse=False)\n",
        "\n",
        "```\n",
        "\n",
        "| Parámetro | Descripción                                                      |\n",
        "|-----------|------------------------------------------------------------------|\n",
        "| `iterable`| Lo que quieres ordenar (lista, tupla, string, etc.)             |\n",
        "| `key`     | Una función que define la base de la ordenación                 |\n",
        "| `reverse`| Si es `True`, ordena de forma descendente (default: `False`)     |\n"
      ],
      "metadata": {
        "id": "szgq27VvaFcM"
      }
    },
    {
      "cell_type": "code",
      "source": [
        "estudiantes = [\n",
        "    {'nombre': 'Luis', 'nota': 90},\n",
        "    {'nombre': 'Ana', 'nota': 100},\n",
        "    {'nombre': 'Carlos', 'nota': 85}\n",
        "]\n",
        "\n",
        "ordenados = sorted(estudiantes, key=lambda x: x['nota'])\n",
        "print(ordenados)"
      ],
      "metadata": {
        "colab": {
          "base_uri": "https://localhost:8080/"
        },
        "id": "wPwP2KLUaaoY",
        "outputId": "4db5e767-0c4a-41f8-9da1-6fe6f35ef361"
      },
      "execution_count": 16,
      "outputs": [
        {
          "output_type": "stream",
          "name": "stdout",
          "text": [
            "[{'nombre': 'Carlos', 'nota': 85}, {'nombre': 'Luis', 'nota': 90}, {'nombre': 'Ana', 'nota': 100}]\n"
          ]
        }
      ]
    },
    {
      "cell_type": "markdown",
      "source": [
        "#all(iterable)\n",
        " Devuelve `True` si todos los elementos del iterable son verdaderos."
      ],
      "metadata": {
        "id": "yF0CHLUbbn3D"
      }
    },
    {
      "cell_type": "code",
      "source": [
        "valores = [True, True, True]\n",
        "print(all(valores))  # True\n",
        "\n",
        "valores = [True, False, True]\n",
        "print(all(valores))  # False\n",
        "\n",
        "# Con números (0 es falso)\n",
        "nums = [1, 3, 5]\n",
        "print(all(nums))  # True\n",
        "\n",
        "nums = [1, 0, 5]\n",
        "print(all(nums))  # False\n"
      ],
      "metadata": {
        "colab": {
          "base_uri": "https://localhost:8080/"
        },
        "id": "a441_Z2-bsJ8",
        "outputId": "50c1467c-aeb6-4ba7-829d-0067a1f29481"
      },
      "execution_count": 17,
      "outputs": [
        {
          "output_type": "stream",
          "name": "stdout",
          "text": [
            "True\n",
            "False\n",
            "True\n",
            "False\n"
          ]
        }
      ]
    },
    {
      "cell_type": "markdown",
      "source": [
        "#any(iterable)\n",
        "Devuelve `True` si algún elemento del iterable es verdadero.\n",
        "Devuelve `False` solo si todos son falsos"
      ],
      "metadata": {
        "id": "Ucm8Z1sjby6f"
      }
    },
    {
      "cell_type": "code",
      "source": [
        "valores = [False, False, True]\n",
        "print(any(valores))  # True\n",
        "\n",
        "valores = [False, False, False]\n",
        "print(any(valores))  # False\n",
        "\n",
        "# También con números\n",
        "nums = [0, 0, 2]\n",
        "print(any(nums))  # True\n"
      ],
      "metadata": {
        "id": "YgJmyed8b1BH"
      },
      "execution_count": null,
      "outputs": []
    },
    {
      "cell_type": "markdown",
      "source": [
        "#max(iterable, key=opcional) , min(iterable,key=opcional)\n",
        "Devuelve el elemento más grande.\n",
        "Puedes usar `key=` para personalizar cómo se evalúa.\n",
        "\n",
        "min tiene funcionalidad similar pero con el elemento menor."
      ],
      "metadata": {
        "id": "XTlYdHPqcTvx"
      }
    },
    {
      "cell_type": "code",
      "source": [
        "print('max: ')\n",
        "nums = [3, 8, 1, 9, 5]\n",
        "print(max(nums))  # 9\n",
        "\n",
        "palabras = ['casa', 'ratón', 'elefante']\n",
        "print(max(palabras, key=len))  # 'elefante' (la más larga)\n",
        "\n",
        "print('\\nmin: ')\n",
        "nums = [3, 8, 1, 9, 5]\n",
        "print(min(nums))  # 1\n",
        "\n",
        "palabras = ['casa', 'ratón', 'elefante']\n",
        "print(min(palabras, key=len))  # 'casa'\n",
        "\n"
      ],
      "metadata": {
        "colab": {
          "base_uri": "https://localhost:8080/"
        },
        "id": "gLuD_PX-cX88",
        "outputId": "f74c212a-6a6a-4f09-8b20-ddb2ea1479b5"
      },
      "execution_count": 21,
      "outputs": [
        {
          "output_type": "stream",
          "name": "stdout",
          "text": [
            "max: \n",
            "9\n",
            "elefante\n",
            "\n",
            "min: \n",
            "1\n",
            "casa\n"
          ]
        }
      ]
    },
    {
      "cell_type": "markdown",
      "source": [
        "#enumerate(iterable, start=0)\n",
        "\n",
        "Devuelve un iterador con tuplas (índice, valor).\n",
        "Ideal para bucles for donde necesitas contar los elementos."
      ],
      "metadata": {
        "id": "Pf6WK-n2dFFA"
      }
    },
    {
      "cell_type": "code",
      "source": [
        "frutas = ['manzana', 'pera', 'uva']\n",
        "\n",
        "print(tuple(enumerate(frutas)))\n",
        "\n",
        "for i, fruta in enumerate(frutas):\n",
        "    print(i, fruta)\n",
        "\n",
        "\n"
      ],
      "metadata": {
        "colab": {
          "base_uri": "https://localhost:8080/"
        },
        "id": "5FNfN1fkdE40",
        "outputId": "1e719e08-e082-49ab-c759-05ca052bf37f"
      },
      "execution_count": 25,
      "outputs": [
        {
          "output_type": "stream",
          "name": "stdout",
          "text": [
            "((0, 'manzana'), (1, 'pera'), (2, 'uva'))\n",
            "0 manzana\n",
            "1 pera\n",
            "2 uva\n"
          ]
        }
      ]
    },
    {
      "cell_type": "markdown",
      "source": [
        "#zip(*iterables)\n",
        "\n",
        "Une varios iterables en pares, formando tuplas.\n",
        "Es como un cierre de cremallera (`zip`), juntando elementos posición a posición."
      ],
      "metadata": {
        "id": "kIIVAOFwde6O"
      }
    },
    {
      "cell_type": "code",
      "source": [
        "nombres = ['Ana', 'Luis', 'Carlos']\n",
        "edades = [25, 30, 28]\n",
        "\n",
        "combinado = zip(nombres, edades)\n",
        "print(list(combinado))  # [('Ana', 25), ('Luis', 30), ('Carlos', 28)]\n",
        "\n",
        "# También se puede desempaquetar:\n",
        "for nombre, edad in zip(nombres, edades):\n",
        "    print(f\"{nombre} tiene {edad} años\")\n"
      ],
      "metadata": {
        "colab": {
          "base_uri": "https://localhost:8080/"
        },
        "id": "aMF1H0Cydlm-",
        "outputId": "c8ada655-c9d9-46d0-e155-bac6243d1a93"
      },
      "execution_count": 26,
      "outputs": [
        {
          "output_type": "stream",
          "name": "stdout",
          "text": [
            "[('Ana', 25), ('Luis', 30), ('Carlos', 28)]\n",
            "Ana tiene 25 años\n",
            "Luis tiene 30 años\n",
            "Carlos tiene 28 años\n"
          ]
        }
      ]
    }
  ]
}