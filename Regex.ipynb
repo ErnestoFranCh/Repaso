{
  "nbformat": 4,
  "nbformat_minor": 0,
  "metadata": {
    "colab": {
      "provenance": [],
      "toc_visible": true,
      "authorship_tag": "ABX9TyM2iu8FjKqWVMGP5IF8rdfh",
      "include_colab_link": true
    },
    "kernelspec": {
      "name": "python3",
      "display_name": "Python 3"
    },
    "language_info": {
      "name": "python"
    }
  },
  "cells": [
    {
      "cell_type": "markdown",
      "metadata": {
        "id": "view-in-github",
        "colab_type": "text"
      },
      "source": [
        "<a href=\"https://colab.research.google.com/github/ErnestoFranCh/Repaso/blob/main/Regex.ipynb\" target=\"_parent\"><img src=\"https://colab.research.google.com/assets/colab-badge.svg\" alt=\"Open In Colab\"/></a>"
      ]
    },
    {
      "cell_type": "markdown",
      "source": [
        "# Regex\n",
        "\n",
        "Son patrones de texto que se usan para hacer coincidir combinaciones de caracteres en cadenas. Son muy útiles en tareas como:\n",
        "\n",
        "- Validar correos electrónicos.\n",
        "\n",
        "- Buscar números de teléfono.\n",
        "\n",
        "- Extraer fechas.\n",
        "\n",
        "- Filtrar palabras claves.\n",
        "\n",
        "- Reemplazar texto.\n",
        "\n",
        "\n"
      ],
      "metadata": {
        "id": "Jitxh7M0_HJs"
      }
    },
    {
      "cell_type": "markdown",
      "source": [
        "#Funciones\n",
        "\n",
        "| N.º | Función                 | Sintaxis básica                          | Descripción breve                                                  |\n",
        "|-----|-------------------------|------------------------------------------|---------------------------------------------------------------------|\n",
        "| 1   | `match()`               | `re.match(pattern, string)`              | Busca una coincidencia al inicio del string.                       |\n",
        "| 2   | `fullmatch()`           | `re.fullmatch(pattern, string)`          | Requiere que todo el string coincida con el patrón.                |\n",
        "| 3   | `search()`              | `re.search(pattern, string)`             | Busca la primera coincidencia en el string.                        |\n",
        "| 4   | `findall()`             | `re.findall(pattern, string)`            | Retorna una lista con todas las coincidencias.                     |\n",
        "| 5   | `finditer()`            | `re.finditer(pattern, string)`           | Retorna un iterador con todos los objetos Match.                   |\n",
        "| 6   | `sub()`                 | `re.sub(pattern, repl, string)`          | Reemplaza coincidencias por otro string.                           |\n",
        "| 7   | `subn()`                | `re.subn(pattern, repl, string)`         | Igual que `sub()`, pero también devuelve el número de reemplazos.  |\n",
        "| 8   | `split()`               | `re.split(pattern, string)`              | Divide el string usando el patrón como separador.                  |\n",
        "| 9   | `compile()`             | `re.compile(pattern)`                    | Compila un patrón en un objeto `RegexObject`.                      |\n",
        "| 10  | `purge()`               | `re.purge()`                             | Limpia la caché de patrones compilados.                            |\n",
        "| 11  | `escape()`              | `re.escape(string)`                      | Escapa caracteres especiales en un string.                         |\n",
        "| 12  | `error`                 | `re.error`                               | Clase base para errores de expresiones regulares.                  |\n",
        "| 13  | `Scanner()`             | `re.Scanner(patterns)`                   | Herramienta para tokenizar texto con múltiples patrones.           |\n",
        "| 14  | `Pattern.fullmatch()`   | `pattern.fullmatch(string)`              | Método del objeto Pattern; similar a `re.fullmatch()`.             |\n",
        "| 15  | `Pattern.match()`       | `pattern.match(string)`                  | Método del objeto Pattern; similar a `re.match()`.                 |\n",
        "| 16  | `Pattern.search()`      | `pattern.search(string)`                 | Método del objeto Pattern; similar a `re.search()`.                |\n",
        "| 17  | `Pattern.findall()`     | `pattern.findall(string)`                | Método del objeto Pattern; igual a `re.findall()`.                 |\n",
        "| 18  | `Pattern.sub()`         | `pattern.sub(repl, string)`              | Método del objeto Pattern; igual a `re.sub()`.                     |\n"
      ],
      "metadata": {
        "id": "CfdQLhU4BISZ"
      }
    },
    {
      "cell_type": "markdown",
      "source": [
        "Se importa el modulo `re`"
      ],
      "metadata": {
        "id": "hChXyHFKAGE0"
      }
    },
    {
      "cell_type": "code",
      "execution_count": 1,
      "metadata": {
        "id": "qe1Sn8JE-_qn"
      },
      "outputs": [],
      "source": [
        "import re"
      ]
    },
    {
      "cell_type": "markdown",
      "source": [
        "# Simbologia\n",
        "\n",
        "| Símbolo  | Significado                        | Ejemplo      | Coincide con                         |\n",
        "|----------|------------------------------------|--------------|--------------------------------------|\n",
        "| `.`      | Cualquier carácter excepto nueva línea | `a.c`        | `abc`, `axc`                         |\n",
        "| `\\d`     | Cualquier dígito (0–9)             | `\\d\\d`       | `23`, `07`                           |\n",
        "| `\\D`     | Cualquier no dígito                | `\\D`         | `a`, `#`                             |\n",
        "| `\\w`     | Cualquier carácter alfanumérico    | `\\w`         | `a`, `A`, `1`, `_`                   |\n",
        "| `\\W`     | Cualquier no alfanumérico          | `\\W`         | `@`, `*`, `!`                        |\n",
        "| `\\s`     | Espacio en blanco                  | `\\s`         | espacio, tab                         |\n",
        "| `\\S`     | Cualquier no espacio               | `\\S`         | `a`, `b`                             |\n",
        "| `^`      | Inicio de línea                    | `^Hola`      | Coincide con `\"Hola mundo\"`         |\n",
        "| `$`      | Fin de línea                       | `mundo$`     | Coincide con `\"Hola mundo\"`         |\n",
        "| `[]`     | Conjunto de caracteres             | `[abc]`      | `a`, `b`, `c`                        |\n",
        "| `[^]`    | Negación de conjunto               | `[^abc]`     | Cualquier cosa menos `a`, `b` o `c` |\n",
        "| `*`      | 0 o más repeticiones               | `a*`         | ``, `a`, `aaaa`                     |\n",
        "| `+`      | 1 o más repeticiones               | `a+`         | `a`, `aa`                           |\n",
        "| `?`      | 0 o 1 repetición                   | `a?`         | ``, `a`                             |\n",
        "| `{n}`    | Exactamente n repeticiones         | `\\d{4}`      | `2023`                              |\n",
        "| `{n,m}`  | Entre n y m repeticiones           | `\\d{2,4}`    | `12`, `123`, `1234`                 |\n",
        "| `|`      | O lógico                           | `azul|rojo`  | `azul` o `rojo`                     |\n",
        "| `()`     | Agrupar                            | `(abc)+`     | `abc`, `abcabc`                     |\n"
      ],
      "metadata": {
        "id": "QRP1Cuw6BmEW"
      }
    },
    {
      "cell_type": "markdown",
      "source": [
        "#Ejemplos"
      ],
      "metadata": {
        "id": "JtT-a4MxAWjT"
      }
    },
    {
      "cell_type": "markdown",
      "source": [
        "## Validar correo electronico"
      ],
      "metadata": {
        "id": "7cXzDPFDAYS1"
      }
    },
    {
      "cell_type": "code",
      "source": [
        "email = \"user@example.com\"\n",
        "pattern = r\"^[\\w\\.-]+@[\\w\\.-]+\\.\\w+$\"\n",
        "\n",
        "re.match(pattern, email)\n"
      ],
      "metadata": {
        "colab": {
          "base_uri": "https://localhost:8080/"
        },
        "id": "aak1VH7yAL3m",
        "outputId": "bf8163ae-9da7-4f94-a03b-af832e46f6da"
      },
      "execution_count": 2,
      "outputs": [
        {
          "output_type": "execute_result",
          "data": {
            "text/plain": [
              "<re.Match object; span=(0, 16), match='user@example.com'>"
            ]
          },
          "metadata": {},
          "execution_count": 2
        }
      ]
    },
    {
      "cell_type": "markdown",
      "source": [
        "Explicacion:\n",
        "\n",
        "El patrón `[\\w\\.-]+` significa lo siguiente:\n",
        "\n",
        "- `\\w` : Coincide con cualquier carácter alfanumérico (letras de la A a la Z, números de 0 a 9) y el guion bajo  `(_)` .\n",
        "\n",
        "- `\\.`: Coincide con el carácter punto literal `(.)`. El punto es un carácter especial en expresiones regulares, por lo que se debe escapar con la barra invertida `(\\)` para que se interprete como un punto literal.\n",
        "\n",
        "- `-`: Coincide con el carácter guion (-) de forma literal.\n",
        "\n",
        "- El signo `+` al final de `[\\w\\.-]+` indica que debe haber al menos un carácter de esos tres tipos (alfanuméricos, puntos o guiones) y que se repite una o más veces."
      ],
      "metadata": {
        "id": "VuYBvyPXDL3_"
      }
    },
    {
      "cell_type": "markdown",
      "source": [
        "## Extraer fechas"
      ],
      "metadata": {
        "id": "IYMRKOFBDyoF"
      }
    },
    {
      "cell_type": "code",
      "source": [
        "text = \"Mi cita es el 2023-08-15 y mi cumpleaños 1990-03-25\"\n",
        "re.findall(r\"\\d{4}-\\d{2}-\\d{2}\", text)"
      ],
      "metadata": {
        "colab": {
          "base_uri": "https://localhost:8080/"
        },
        "id": "Uou-N4cODMz0",
        "outputId": "0bf7ca41-94a0-44f0-a44c-0065b6fcea69"
      },
      "execution_count": 3,
      "outputs": [
        {
          "output_type": "execute_result",
          "data": {
            "text/plain": [
              "['2023-08-15', '1990-03-25']"
            ]
          },
          "metadata": {},
          "execution_count": 3
        }
      ]
    },
    {
      "cell_type": "markdown",
      "source": [
        "Definir el siguiente patron de numero telefonico mexicano:\n",
        "\n",
        "52 XXXX XXXX"
      ],
      "metadata": {
        "id": "vdqTLqbQEs0T"
      }
    },
    {
      "cell_type": "code",
      "source": [
        "phone = r'^52\\s\\d{4}\\s\\d{4}$'"
      ],
      "metadata": {
        "id": "ywtp5RZWFVaE"
      },
      "execution_count": null,
      "outputs": []
    },
    {
      "cell_type": "markdown",
      "source": [
        "Definir el patron del curp"
      ],
      "metadata": {
        "id": "x02ePoeUFw2H"
      }
    },
    {
      "cell_type": "code",
      "source": [
        "curp = r'^[A-Z]{4}\\d{6}[A-Z]{6}\\d{2}$'"
      ],
      "metadata": {
        "id": "df5zrDLCFzK-"
      },
      "execution_count": null,
      "outputs": []
    }
  ]
}